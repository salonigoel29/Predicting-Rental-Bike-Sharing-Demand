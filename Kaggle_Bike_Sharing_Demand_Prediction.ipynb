{
  "nbformat": 4,
  "nbformat_minor": 0,
  "metadata": {
    "colab": {
      "name": "Kaggle Bike Sharing Demand Prediction",
      "provenance": [],
      "collapsed_sections": []
    },
    "kernelspec": {
      "name": "python3",
      "display_name": "Python 3"
    },
    "language_info": {
      "name": "python"
    }
  },
  "cells": [
    {
      "cell_type": "code",
      "metadata": {
        "id": "sHAul9jqTVFe"
      },
      "source": [
        "# Import libraries\n",
        "\n",
        "import numpy as np\n",
        "import pandas as pd\n",
        "import seaborn as sns\n",
        "import matplotlib.pyplot as plt\n",
        "import datetime\n",
        "\n",
        "\n",
        "# Supress Warnings\n",
        "\n",
        "import warnings\n",
        "warnings.filterwarnings('ignore')\n",
        "\n"
      ],
      "execution_count": null,
      "outputs": []
    },
    {
      "cell_type": "markdown",
      "metadata": {
        "id": "45BHN6SnpPsB"
      },
      "source": [
        ""
      ]
    },
    {
      "cell_type": "markdown",
      "metadata": {
        "id": "p1VZNsQYo50r"
      },
      "source": [
        "datetime:   date and hour in \"mm/dd/yyyy hh:mm\" format\n",
        "\n",
        "season:     Four categories-> 1 = spring, 2 = summer, 3 = fall, 4 = winter\n",
        "\n",
        "holiday:    whether the day is a holiday or not (1/0)\n",
        "\n",
        "workingday: whether the day is neither a weekend nor holiday (1/0)\n",
        "\n",
        "weather:    Four Categories of weather\n",
        "            1-> Clear, Few clouds, Partly cloudy, Partly cloudy\n",
        "            2-> Mist + Cloudy, Mist + Broken clouds, Mist + Few clouds, Mist\n",
        "\n",
        "            3-> Light Snow and Rain + Thunderstorm + Scattered clouds, Light Rain + Scattered clouds\n",
        "\n",
        "            4-> Heavy Rain + Ice Pallets + Thunderstorm + Mist, Snow + Fog\n",
        "\n",
        "temp:       hourly temperature in Celsius\n",
        "\n",
        "atemp:      \"feels like\" temperature in Celsius\n",
        "\n",
        "humidity:   relative humidity\n",
        "\n",
        "windspeed:  wind speed\n",
        "\n",
        "\n",
        "\n"
      ]
    },
    {
      "cell_type": "markdown",
      "metadata": {
        "id": "nStJGuU3UDRE"
      },
      "source": [
        "# **IMPORTING THE DATA**"
      ]
    },
    {
      "cell_type": "code",
      "metadata": {
        "colab": {
          "base_uri": "https://localhost:8080/"
        },
        "id": "Fj9SAM4dUBu1",
        "outputId": "469fb9f9-c5a7-4636-cef6-9cd9f0ed1b8f"
      },
      "source": [
        "# Mounting colab with google drive to access the csv from there\n",
        "from google.colab import drive\n",
        "drive.mount('/content/drive')"
      ],
      "execution_count": null,
      "outputs": [
        {
          "output_type": "stream",
          "name": "stdout",
          "text": [
            "Drive already mounted at /content/drive; to attempt to forcibly remount, call drive.mount(\"/content/drive\", force_remount=True).\n"
          ]
        }
      ]
    },
    {
      "cell_type": "code",
      "metadata": {
        "id": "NaqPzGybUzXz"
      },
      "source": [
        "traindata = pd.read_csv(\"/content/drive/MyDrive/Google Colab/Bike_Data_Challenge/train.csv\")\n",
        "testdata = pd.read_csv(\"/content/drive/MyDrive/Google Colab/Bike_Data_Challenge/test.csv\")"
      ],
      "execution_count": null,
      "outputs": []
    },
    {
      "cell_type": "markdown",
      "metadata": {
        "id": "Qh2WwLt2VHgu"
      },
      "source": [
        "## **DATA READING**"
      ]
    },
    {
      "cell_type": "code",
      "metadata": {
        "colab": {
          "base_uri": "https://localhost:8080/",
          "height": 206
        },
        "id": "JRUMXGLnUBxf",
        "outputId": "7ad42df6-301d-4d41-a6ae-8817e7d4bc8d"
      },
      "source": [
        "traindata.head()"
      ],
      "execution_count": null,
      "outputs": [
        {
          "output_type": "execute_result",
          "data": {
            "text/html": [
              "<div>\n",
              "<style scoped>\n",
              "    .dataframe tbody tr th:only-of-type {\n",
              "        vertical-align: middle;\n",
              "    }\n",
              "\n",
              "    .dataframe tbody tr th {\n",
              "        vertical-align: top;\n",
              "    }\n",
              "\n",
              "    .dataframe thead th {\n",
              "        text-align: right;\n",
              "    }\n",
              "</style>\n",
              "<table border=\"1\" class=\"dataframe\">\n",
              "  <thead>\n",
              "    <tr style=\"text-align: right;\">\n",
              "      <th></th>\n",
              "      <th>datetime</th>\n",
              "      <th>season</th>\n",
              "      <th>holiday</th>\n",
              "      <th>workingday</th>\n",
              "      <th>weather</th>\n",
              "      <th>temp</th>\n",
              "      <th>atemp</th>\n",
              "      <th>humidity</th>\n",
              "      <th>windspeed</th>\n",
              "      <th>casual</th>\n",
              "      <th>registered</th>\n",
              "      <th>count</th>\n",
              "    </tr>\n",
              "  </thead>\n",
              "  <tbody>\n",
              "    <tr>\n",
              "      <th>0</th>\n",
              "      <td>2011-01-01 00:00:00</td>\n",
              "      <td>1</td>\n",
              "      <td>0</td>\n",
              "      <td>0</td>\n",
              "      <td>1</td>\n",
              "      <td>9.84</td>\n",
              "      <td>14.395</td>\n",
              "      <td>81</td>\n",
              "      <td>0.0</td>\n",
              "      <td>3</td>\n",
              "      <td>13</td>\n",
              "      <td>16</td>\n",
              "    </tr>\n",
              "    <tr>\n",
              "      <th>1</th>\n",
              "      <td>2011-01-01 01:00:00</td>\n",
              "      <td>1</td>\n",
              "      <td>0</td>\n",
              "      <td>0</td>\n",
              "      <td>1</td>\n",
              "      <td>9.02</td>\n",
              "      <td>13.635</td>\n",
              "      <td>80</td>\n",
              "      <td>0.0</td>\n",
              "      <td>8</td>\n",
              "      <td>32</td>\n",
              "      <td>40</td>\n",
              "    </tr>\n",
              "    <tr>\n",
              "      <th>2</th>\n",
              "      <td>2011-01-01 02:00:00</td>\n",
              "      <td>1</td>\n",
              "      <td>0</td>\n",
              "      <td>0</td>\n",
              "      <td>1</td>\n",
              "      <td>9.02</td>\n",
              "      <td>13.635</td>\n",
              "      <td>80</td>\n",
              "      <td>0.0</td>\n",
              "      <td>5</td>\n",
              "      <td>27</td>\n",
              "      <td>32</td>\n",
              "    </tr>\n",
              "    <tr>\n",
              "      <th>3</th>\n",
              "      <td>2011-01-01 03:00:00</td>\n",
              "      <td>1</td>\n",
              "      <td>0</td>\n",
              "      <td>0</td>\n",
              "      <td>1</td>\n",
              "      <td>9.84</td>\n",
              "      <td>14.395</td>\n",
              "      <td>75</td>\n",
              "      <td>0.0</td>\n",
              "      <td>3</td>\n",
              "      <td>10</td>\n",
              "      <td>13</td>\n",
              "    </tr>\n",
              "    <tr>\n",
              "      <th>4</th>\n",
              "      <td>2011-01-01 04:00:00</td>\n",
              "      <td>1</td>\n",
              "      <td>0</td>\n",
              "      <td>0</td>\n",
              "      <td>1</td>\n",
              "      <td>9.84</td>\n",
              "      <td>14.395</td>\n",
              "      <td>75</td>\n",
              "      <td>0.0</td>\n",
              "      <td>0</td>\n",
              "      <td>1</td>\n",
              "      <td>1</td>\n",
              "    </tr>\n",
              "  </tbody>\n",
              "</table>\n",
              "</div>"
            ],
            "text/plain": [
              "              datetime  season  holiday  ...  casual  registered  count\n",
              "0  2011-01-01 00:00:00       1        0  ...       3          13     16\n",
              "1  2011-01-01 01:00:00       1        0  ...       8          32     40\n",
              "2  2011-01-01 02:00:00       1        0  ...       5          27     32\n",
              "3  2011-01-01 03:00:00       1        0  ...       3          10     13\n",
              "4  2011-01-01 04:00:00       1        0  ...       0           1      1\n",
              "\n",
              "[5 rows x 12 columns]"
            ]
          },
          "metadata": {},
          "execution_count": 153
        }
      ]
    },
    {
      "cell_type": "code",
      "metadata": {
        "colab": {
          "base_uri": "https://localhost:8080/",
          "height": 206
        },
        "id": "AVr4pSvQhhRi",
        "outputId": "7d81f79c-9bba-41f4-972d-df0a23ff862d"
      },
      "source": [
        "testdata.head()"
      ],
      "execution_count": null,
      "outputs": [
        {
          "output_type": "execute_result",
          "data": {
            "text/html": [
              "<div>\n",
              "<style scoped>\n",
              "    .dataframe tbody tr th:only-of-type {\n",
              "        vertical-align: middle;\n",
              "    }\n",
              "\n",
              "    .dataframe tbody tr th {\n",
              "        vertical-align: top;\n",
              "    }\n",
              "\n",
              "    .dataframe thead th {\n",
              "        text-align: right;\n",
              "    }\n",
              "</style>\n",
              "<table border=\"1\" class=\"dataframe\">\n",
              "  <thead>\n",
              "    <tr style=\"text-align: right;\">\n",
              "      <th></th>\n",
              "      <th>datetime</th>\n",
              "      <th>season</th>\n",
              "      <th>holiday</th>\n",
              "      <th>workingday</th>\n",
              "      <th>weather</th>\n",
              "      <th>temp</th>\n",
              "      <th>atemp</th>\n",
              "      <th>humidity</th>\n",
              "      <th>windspeed</th>\n",
              "    </tr>\n",
              "  </thead>\n",
              "  <tbody>\n",
              "    <tr>\n",
              "      <th>0</th>\n",
              "      <td>2011-01-20 00:00:00</td>\n",
              "      <td>1</td>\n",
              "      <td>0</td>\n",
              "      <td>1</td>\n",
              "      <td>1</td>\n",
              "      <td>10.66</td>\n",
              "      <td>11.365</td>\n",
              "      <td>56</td>\n",
              "      <td>26.0027</td>\n",
              "    </tr>\n",
              "    <tr>\n",
              "      <th>1</th>\n",
              "      <td>2011-01-20 01:00:00</td>\n",
              "      <td>1</td>\n",
              "      <td>0</td>\n",
              "      <td>1</td>\n",
              "      <td>1</td>\n",
              "      <td>10.66</td>\n",
              "      <td>13.635</td>\n",
              "      <td>56</td>\n",
              "      <td>0.0000</td>\n",
              "    </tr>\n",
              "    <tr>\n",
              "      <th>2</th>\n",
              "      <td>2011-01-20 02:00:00</td>\n",
              "      <td>1</td>\n",
              "      <td>0</td>\n",
              "      <td>1</td>\n",
              "      <td>1</td>\n",
              "      <td>10.66</td>\n",
              "      <td>13.635</td>\n",
              "      <td>56</td>\n",
              "      <td>0.0000</td>\n",
              "    </tr>\n",
              "    <tr>\n",
              "      <th>3</th>\n",
              "      <td>2011-01-20 03:00:00</td>\n",
              "      <td>1</td>\n",
              "      <td>0</td>\n",
              "      <td>1</td>\n",
              "      <td>1</td>\n",
              "      <td>10.66</td>\n",
              "      <td>12.880</td>\n",
              "      <td>56</td>\n",
              "      <td>11.0014</td>\n",
              "    </tr>\n",
              "    <tr>\n",
              "      <th>4</th>\n",
              "      <td>2011-01-20 04:00:00</td>\n",
              "      <td>1</td>\n",
              "      <td>0</td>\n",
              "      <td>1</td>\n",
              "      <td>1</td>\n",
              "      <td>10.66</td>\n",
              "      <td>12.880</td>\n",
              "      <td>56</td>\n",
              "      <td>11.0014</td>\n",
              "    </tr>\n",
              "  </tbody>\n",
              "</table>\n",
              "</div>"
            ],
            "text/plain": [
              "              datetime  season  holiday  ...   atemp  humidity  windspeed\n",
              "0  2011-01-20 00:00:00       1        0  ...  11.365        56    26.0027\n",
              "1  2011-01-20 01:00:00       1        0  ...  13.635        56     0.0000\n",
              "2  2011-01-20 02:00:00       1        0  ...  13.635        56     0.0000\n",
              "3  2011-01-20 03:00:00       1        0  ...  12.880        56    11.0014\n",
              "4  2011-01-20 04:00:00       1        0  ...  12.880        56    11.0014\n",
              "\n",
              "[5 rows x 9 columns]"
            ]
          },
          "metadata": {},
          "execution_count": 154
        }
      ]
    },
    {
      "cell_type": "code",
      "metadata": {
        "colab": {
          "base_uri": "https://localhost:8080/",
          "height": 206
        },
        "id": "FAJOLZsbZGkX",
        "outputId": "d5e044e1-dc19-4bec-d584-841d93c8119a"
      },
      "source": [
        "traindata.tail()"
      ],
      "execution_count": null,
      "outputs": [
        {
          "output_type": "execute_result",
          "data": {
            "text/html": [
              "<div>\n",
              "<style scoped>\n",
              "    .dataframe tbody tr th:only-of-type {\n",
              "        vertical-align: middle;\n",
              "    }\n",
              "\n",
              "    .dataframe tbody tr th {\n",
              "        vertical-align: top;\n",
              "    }\n",
              "\n",
              "    .dataframe thead th {\n",
              "        text-align: right;\n",
              "    }\n",
              "</style>\n",
              "<table border=\"1\" class=\"dataframe\">\n",
              "  <thead>\n",
              "    <tr style=\"text-align: right;\">\n",
              "      <th></th>\n",
              "      <th>datetime</th>\n",
              "      <th>season</th>\n",
              "      <th>holiday</th>\n",
              "      <th>workingday</th>\n",
              "      <th>weather</th>\n",
              "      <th>temp</th>\n",
              "      <th>atemp</th>\n",
              "      <th>humidity</th>\n",
              "      <th>windspeed</th>\n",
              "      <th>casual</th>\n",
              "      <th>registered</th>\n",
              "      <th>count</th>\n",
              "    </tr>\n",
              "  </thead>\n",
              "  <tbody>\n",
              "    <tr>\n",
              "      <th>10881</th>\n",
              "      <td>2012-12-19 19:00:00</td>\n",
              "      <td>4</td>\n",
              "      <td>0</td>\n",
              "      <td>1</td>\n",
              "      <td>1</td>\n",
              "      <td>15.58</td>\n",
              "      <td>19.695</td>\n",
              "      <td>50</td>\n",
              "      <td>26.0027</td>\n",
              "      <td>7</td>\n",
              "      <td>329</td>\n",
              "      <td>336</td>\n",
              "    </tr>\n",
              "    <tr>\n",
              "      <th>10882</th>\n",
              "      <td>2012-12-19 20:00:00</td>\n",
              "      <td>4</td>\n",
              "      <td>0</td>\n",
              "      <td>1</td>\n",
              "      <td>1</td>\n",
              "      <td>14.76</td>\n",
              "      <td>17.425</td>\n",
              "      <td>57</td>\n",
              "      <td>15.0013</td>\n",
              "      <td>10</td>\n",
              "      <td>231</td>\n",
              "      <td>241</td>\n",
              "    </tr>\n",
              "    <tr>\n",
              "      <th>10883</th>\n",
              "      <td>2012-12-19 21:00:00</td>\n",
              "      <td>4</td>\n",
              "      <td>0</td>\n",
              "      <td>1</td>\n",
              "      <td>1</td>\n",
              "      <td>13.94</td>\n",
              "      <td>15.910</td>\n",
              "      <td>61</td>\n",
              "      <td>15.0013</td>\n",
              "      <td>4</td>\n",
              "      <td>164</td>\n",
              "      <td>168</td>\n",
              "    </tr>\n",
              "    <tr>\n",
              "      <th>10884</th>\n",
              "      <td>2012-12-19 22:00:00</td>\n",
              "      <td>4</td>\n",
              "      <td>0</td>\n",
              "      <td>1</td>\n",
              "      <td>1</td>\n",
              "      <td>13.94</td>\n",
              "      <td>17.425</td>\n",
              "      <td>61</td>\n",
              "      <td>6.0032</td>\n",
              "      <td>12</td>\n",
              "      <td>117</td>\n",
              "      <td>129</td>\n",
              "    </tr>\n",
              "    <tr>\n",
              "      <th>10885</th>\n",
              "      <td>2012-12-19 23:00:00</td>\n",
              "      <td>4</td>\n",
              "      <td>0</td>\n",
              "      <td>1</td>\n",
              "      <td>1</td>\n",
              "      <td>13.12</td>\n",
              "      <td>16.665</td>\n",
              "      <td>66</td>\n",
              "      <td>8.9981</td>\n",
              "      <td>4</td>\n",
              "      <td>84</td>\n",
              "      <td>88</td>\n",
              "    </tr>\n",
              "  </tbody>\n",
              "</table>\n",
              "</div>"
            ],
            "text/plain": [
              "                  datetime  season  holiday  ...  casual  registered  count\n",
              "10881  2012-12-19 19:00:00       4        0  ...       7         329    336\n",
              "10882  2012-12-19 20:00:00       4        0  ...      10         231    241\n",
              "10883  2012-12-19 21:00:00       4        0  ...       4         164    168\n",
              "10884  2012-12-19 22:00:00       4        0  ...      12         117    129\n",
              "10885  2012-12-19 23:00:00       4        0  ...       4          84     88\n",
              "\n",
              "[5 rows x 12 columns]"
            ]
          },
          "metadata": {},
          "execution_count": 155
        }
      ]
    },
    {
      "cell_type": "code",
      "metadata": {
        "colab": {
          "base_uri": "https://localhost:8080/",
          "height": 206
        },
        "id": "XcI4ZdNDhj0D",
        "outputId": "e85a0336-e99d-4228-e14e-6e4ef529e5c4"
      },
      "source": [
        "testdata.tail()"
      ],
      "execution_count": null,
      "outputs": [
        {
          "output_type": "execute_result",
          "data": {
            "text/html": [
              "<div>\n",
              "<style scoped>\n",
              "    .dataframe tbody tr th:only-of-type {\n",
              "        vertical-align: middle;\n",
              "    }\n",
              "\n",
              "    .dataframe tbody tr th {\n",
              "        vertical-align: top;\n",
              "    }\n",
              "\n",
              "    .dataframe thead th {\n",
              "        text-align: right;\n",
              "    }\n",
              "</style>\n",
              "<table border=\"1\" class=\"dataframe\">\n",
              "  <thead>\n",
              "    <tr style=\"text-align: right;\">\n",
              "      <th></th>\n",
              "      <th>datetime</th>\n",
              "      <th>season</th>\n",
              "      <th>holiday</th>\n",
              "      <th>workingday</th>\n",
              "      <th>weather</th>\n",
              "      <th>temp</th>\n",
              "      <th>atemp</th>\n",
              "      <th>humidity</th>\n",
              "      <th>windspeed</th>\n",
              "    </tr>\n",
              "  </thead>\n",
              "  <tbody>\n",
              "    <tr>\n",
              "      <th>6488</th>\n",
              "      <td>2012-12-31 19:00:00</td>\n",
              "      <td>1</td>\n",
              "      <td>0</td>\n",
              "      <td>1</td>\n",
              "      <td>2</td>\n",
              "      <td>10.66</td>\n",
              "      <td>12.880</td>\n",
              "      <td>60</td>\n",
              "      <td>11.0014</td>\n",
              "    </tr>\n",
              "    <tr>\n",
              "      <th>6489</th>\n",
              "      <td>2012-12-31 20:00:00</td>\n",
              "      <td>1</td>\n",
              "      <td>0</td>\n",
              "      <td>1</td>\n",
              "      <td>2</td>\n",
              "      <td>10.66</td>\n",
              "      <td>12.880</td>\n",
              "      <td>60</td>\n",
              "      <td>11.0014</td>\n",
              "    </tr>\n",
              "    <tr>\n",
              "      <th>6490</th>\n",
              "      <td>2012-12-31 21:00:00</td>\n",
              "      <td>1</td>\n",
              "      <td>0</td>\n",
              "      <td>1</td>\n",
              "      <td>1</td>\n",
              "      <td>10.66</td>\n",
              "      <td>12.880</td>\n",
              "      <td>60</td>\n",
              "      <td>11.0014</td>\n",
              "    </tr>\n",
              "    <tr>\n",
              "      <th>6491</th>\n",
              "      <td>2012-12-31 22:00:00</td>\n",
              "      <td>1</td>\n",
              "      <td>0</td>\n",
              "      <td>1</td>\n",
              "      <td>1</td>\n",
              "      <td>10.66</td>\n",
              "      <td>13.635</td>\n",
              "      <td>56</td>\n",
              "      <td>8.9981</td>\n",
              "    </tr>\n",
              "    <tr>\n",
              "      <th>6492</th>\n",
              "      <td>2012-12-31 23:00:00</td>\n",
              "      <td>1</td>\n",
              "      <td>0</td>\n",
              "      <td>1</td>\n",
              "      <td>1</td>\n",
              "      <td>10.66</td>\n",
              "      <td>13.635</td>\n",
              "      <td>65</td>\n",
              "      <td>8.9981</td>\n",
              "    </tr>\n",
              "  </tbody>\n",
              "</table>\n",
              "</div>"
            ],
            "text/plain": [
              "                 datetime  season  holiday  ...   atemp  humidity  windspeed\n",
              "6488  2012-12-31 19:00:00       1        0  ...  12.880        60    11.0014\n",
              "6489  2012-12-31 20:00:00       1        0  ...  12.880        60    11.0014\n",
              "6490  2012-12-31 21:00:00       1        0  ...  12.880        60    11.0014\n",
              "6491  2012-12-31 22:00:00       1        0  ...  13.635        56     8.9981\n",
              "6492  2012-12-31 23:00:00       1        0  ...  13.635        65     8.9981\n",
              "\n",
              "[5 rows x 9 columns]"
            ]
          },
          "metadata": {},
          "execution_count": 156
        }
      ]
    },
    {
      "cell_type": "code",
      "metadata": {
        "colab": {
          "base_uri": "https://localhost:8080/"
        },
        "id": "dNrXKnArXQQj",
        "outputId": "b7e3c74d-528a-40b3-8139-91bf6a082875"
      },
      "source": [
        "traindata.shape"
      ],
      "execution_count": null,
      "outputs": [
        {
          "output_type": "execute_result",
          "data": {
            "text/plain": [
              "(10886, 12)"
            ]
          },
          "metadata": {},
          "execution_count": 157
        }
      ]
    },
    {
      "cell_type": "code",
      "metadata": {
        "colab": {
          "base_uri": "https://localhost:8080/"
        },
        "id": "lgvv4ENBhnsG",
        "outputId": "bfdd7c66-e849-4e89-d74b-5af4cd91533a"
      },
      "source": [
        "testdata.shape"
      ],
      "execution_count": null,
      "outputs": [
        {
          "output_type": "execute_result",
          "data": {
            "text/plain": [
              "(6493, 11)"
            ]
          },
          "metadata": {},
          "execution_count": 245
        }
      ]
    },
    {
      "cell_type": "code",
      "metadata": {
        "colab": {
          "base_uri": "https://localhost:8080/"
        },
        "id": "ulTmSiNqZOP4",
        "outputId": "060b55a2-17d4-449d-e324-1785f9a0e950"
      },
      "source": [
        "traindata.info()\n",
        "#non-null means non-nulls are allowed"
      ],
      "execution_count": null,
      "outputs": [
        {
          "output_type": "stream",
          "name": "stdout",
          "text": [
            "<class 'pandas.core.frame.DataFrame'>\n",
            "RangeIndex: 10886 entries, 0 to 10885\n",
            "Data columns (total 14 columns):\n",
            " #   Column      Non-Null Count  Dtype         \n",
            "---  ------      --------------  -----         \n",
            " 0   datetime    10886 non-null  datetime64[ns]\n",
            " 1   season      10886 non-null  int64         \n",
            " 2   holiday     10886 non-null  int64         \n",
            " 3   workingday  10886 non-null  int64         \n",
            " 4   weather     10886 non-null  int64         \n",
            " 5   temp        10886 non-null  float64       \n",
            " 6   atemp       10886 non-null  float64       \n",
            " 7   humidity    10886 non-null  int64         \n",
            " 8   windspeed   10886 non-null  float64       \n",
            " 9   casual      10886 non-null  int64         \n",
            " 10  registered  10886 non-null  int64         \n",
            " 11  count       10886 non-null  int64         \n",
            " 12  time_hour   10886 non-null  int64         \n",
            " 13  time_day    10886 non-null  int64         \n",
            "dtypes: datetime64[ns](1), float64(3), int64(10)\n",
            "memory usage: 1.2 MB\n"
          ]
        }
      ]
    },
    {
      "cell_type": "code",
      "metadata": {
        "colab": {
          "base_uri": "https://localhost:8080/"
        },
        "id": "ArdTbbpiHF4q",
        "outputId": "8b685340-9c41-4cc9-bc25-d466438cd94f"
      },
      "source": [
        "testdata.info()"
      ],
      "execution_count": null,
      "outputs": [
        {
          "output_type": "stream",
          "name": "stdout",
          "text": [
            "<class 'pandas.core.frame.DataFrame'>\n",
            "RangeIndex: 6493 entries, 0 to 6492\n",
            "Data columns (total 11 columns):\n",
            " #   Column      Non-Null Count  Dtype         \n",
            "---  ------      --------------  -----         \n",
            " 0   datetime    6493 non-null   datetime64[ns]\n",
            " 1   season      6493 non-null   int64         \n",
            " 2   holiday     6493 non-null   int64         \n",
            " 3   workingday  6493 non-null   int64         \n",
            " 4   weather     6493 non-null   int64         \n",
            " 5   temp        6493 non-null   float64       \n",
            " 6   atemp       6493 non-null   float64       \n",
            " 7   humidity    6493 non-null   int64         \n",
            " 8   windspeed   6493 non-null   float64       \n",
            " 9   time_hour   6493 non-null   int64         \n",
            " 10  time_day    6493 non-null   object        \n",
            "dtypes: datetime64[ns](1), float64(3), int64(6), object(1)\n",
            "memory usage: 558.1+ KB\n"
          ]
        }
      ]
    },
    {
      "cell_type": "code",
      "metadata": {
        "colab": {
          "base_uri": "https://localhost:8080/"
        },
        "id": "93kRPr8FZ-Bu",
        "outputId": "50ebb3b5-a82f-475b-e6b2-d87b0c914b6c"
      },
      "source": [
        "traindata.isnull().sum()"
      ],
      "execution_count": null,
      "outputs": [
        {
          "output_type": "execute_result",
          "data": {
            "text/plain": [
              "datetime      0\n",
              "season        0\n",
              "holiday       0\n",
              "workingday    0\n",
              "weather       0\n",
              "temp          0\n",
              "atemp         0\n",
              "humidity      0\n",
              "windspeed     0\n",
              "casual        0\n",
              "registered    0\n",
              "count         0\n",
              "dtype: int64"
            ]
          },
          "metadata": {},
          "execution_count": 160
        }
      ]
    },
    {
      "cell_type": "code",
      "metadata": {
        "colab": {
          "base_uri": "https://localhost:8080/"
        },
        "id": "SJBa4lmwHJHl",
        "outputId": "40d334b6-1db1-4998-bbf3-a257839d0502"
      },
      "source": [
        "testdata.isnull().sum()"
      ],
      "execution_count": null,
      "outputs": [
        {
          "output_type": "execute_result",
          "data": {
            "text/plain": [
              "datetime      0\n",
              "season        0\n",
              "holiday       0\n",
              "workingday    0\n",
              "weather       0\n",
              "temp          0\n",
              "atemp         0\n",
              "humidity      0\n",
              "windspeed     0\n",
              "time_hour     0\n",
              "time_day      0\n",
              "dtype: int64"
            ]
          },
          "metadata": {},
          "execution_count": 247
        }
      ]
    },
    {
      "cell_type": "code",
      "metadata": {
        "colab": {
          "base_uri": "https://localhost:8080/"
        },
        "id": "FMyc86vKZ99V",
        "outputId": "df57d620-4752-4f73-f64f-31dc3fbd9ec5"
      },
      "source": [
        "traindata.shape\n"
      ],
      "execution_count": null,
      "outputs": [
        {
          "output_type": "execute_result",
          "data": {
            "text/plain": [
              "(10886, 12)"
            ]
          },
          "metadata": {},
          "execution_count": 162
        }
      ]
    },
    {
      "cell_type": "code",
      "metadata": {
        "colab": {
          "base_uri": "https://localhost:8080/"
        },
        "id": "Y_txPPuIh6H3",
        "outputId": "38cc8f19-a2db-475d-8e69-12bf591335bb"
      },
      "source": [
        "testdata.shape"
      ],
      "execution_count": null,
      "outputs": [
        {
          "output_type": "execute_result",
          "data": {
            "text/plain": [
              "(6493, 9)"
            ]
          },
          "metadata": {},
          "execution_count": 163
        }
      ]
    },
    {
      "cell_type": "code",
      "metadata": {
        "colab": {
          "base_uri": "https://localhost:8080/",
          "height": 935
        },
        "id": "wRm1l58WZ95X",
        "outputId": "da401c8e-4f23-413e-fafa-79607b415e17"
      },
      "source": [
        "traindata.hist(figsize = (25,15))"
      ],
      "execution_count": null,
      "outputs": [
        {
          "output_type": "execute_result",
          "data": {
            "text/plain": [
              "array([[<matplotlib.axes._subplots.AxesSubplot object at 0x7f012d6699d0>,\n",
              "        <matplotlib.axes._subplots.AxesSubplot object at 0x7f012d683810>,\n",
              "        <matplotlib.axes._subplots.AxesSubplot object at 0x7f012d62ad90>],\n",
              "       [<matplotlib.axes._subplots.AxesSubplot object at 0x7f012d65d350>,\n",
              "        <matplotlib.axes._subplots.AxesSubplot object at 0x7f012d6078d0>,\n",
              "        <matplotlib.axes._subplots.AxesSubplot object at 0x7f012d5b1d50>],\n",
              "       [<matplotlib.axes._subplots.AxesSubplot object at 0x7f012d566310>,\n",
              "        <matplotlib.axes._subplots.AxesSubplot object at 0x7f012d592890>,\n",
              "        <matplotlib.axes._subplots.AxesSubplot object at 0x7f012d599d50>],\n",
              "       [<matplotlib.axes._subplots.AxesSubplot object at 0x7f012d54e410>,\n",
              "        <matplotlib.axes._subplots.AxesSubplot object at 0x7f012d51e950>,\n",
              "        <matplotlib.axes._subplots.AxesSubplot object at 0x7f012d4d2ed0>]],\n",
              "      dtype=object)"
            ]
          },
          "metadata": {},
          "execution_count": 164
        },
        {
          "output_type": "display_data",
          "data": {
            "image/png": "[encoded data removed]",
            "text/plain": [
              "<Figure size 1800x1080 with 12 Axes>"
            ]
          },
          "metadata": {
            "needs_background": "light"
          }
        }
      ]
    },
    {
      "cell_type": "code",
      "metadata": {
        "colab": {
          "base_uri": "https://localhost:8080/",
          "height": 883
        },
        "id": "EcnpiRmDmB7d",
        "outputId": "9687ec62-18dc-481d-d6c9-fd1d85c0ac30"
      },
      "source": [
        "testdata.hist(figsize = (25,15))"
      ],
      "execution_count": null,
      "outputs": [
        {
          "output_type": "execute_result",
          "data": {
            "text/plain": [
              "array([[<matplotlib.axes._subplots.AxesSubplot object at 0x7f012d1445d0>,\n",
              "        <matplotlib.axes._subplots.AxesSubplot object at 0x7f012d0e4f10>,\n",
              "        <matplotlib.axes._subplots.AxesSubplot object at 0x7f012d102390>],\n",
              "       [<matplotlib.axes._subplots.AxesSubplot object at 0x7f012d0b6910>,\n",
              "        <matplotlib.axes._subplots.AxesSubplot object at 0x7f012d06ce90>,\n",
              "        <matplotlib.axes._subplots.AxesSubplot object at 0x7f012d02d450>],\n",
              "       [<matplotlib.axes._subplots.AxesSubplot object at 0x7f012d0629d0>,\n",
              "        <matplotlib.axes._subplots.AxesSubplot object at 0x7f012cfa4090>,\n",
              "        <matplotlib.axes._subplots.AxesSubplot object at 0x7f012cfaf510>]],\n",
              "      dtype=object)"
            ]
          },
          "metadata": {},
          "execution_count": 165
        },
        {
          "output_type": "display_data",
          "data": {
            "image/png": "[encoded data removed]",
            "text/plain": [
              "<Figure size 1800x1080 with 9 Axes>"
            ]
          },
          "metadata": {
            "needs_background": "light"
          }
        }
      ]
    },
    {
      "cell_type": "code",
      "metadata": {
        "colab": {
          "base_uri": "https://localhost:8080/",
          "height": 297
        },
        "id": "AZDG6EOsjLyN",
        "outputId": "1a8473ca-b8b0-4cc0-cc6a-11aba7bdafd1"
      },
      "source": [
        "sns.distplot(traindata[\"count\"])"
      ],
      "execution_count": null,
      "outputs": [
        {
          "output_type": "execute_result",
          "data": {
            "text/plain": [
              "<matplotlib.axes._subplots.AxesSubplot at 0x7f012cdf1c10>"
            ]
          },
          "metadata": {},
          "execution_count": 166
        },
        {
          "output_type": "display_data",
          "data": {
            "image/png": "[encoded data removed]",
            "text/plain": [
              "<Figure size 432x288 with 1 Axes>"
            ]
          },
          "metadata": {
            "needs_background": "light"
          }
        }
      ]
    },
    {
      "cell_type": "code",
      "metadata": {
        "colab": {
          "base_uri": "https://localhost:8080/"
        },
        "id": "nTn1jSAimNZv",
        "outputId": "157c4461-3660-488b-906c-b0db7dbabad2"
      },
      "source": [
        "for col in traindata:\n",
        "    print(\"\\n\")\n",
        "    print(col)\n",
        "    print(traindata[col].unique())\n",
        "    print(\"\\n\")\n"
      ],
      "execution_count": null,
      "outputs": [
        {
          "output_type": "stream",
          "name": "stdout",
          "text": [
            "\n",
            "\n",
            "datetime\n",
            "['2011-01-01 00:00:00' '2011-01-01 01:00:00' '2011-01-01 02:00:00' ...\n",
            " '2012-12-19 21:00:00' '2012-12-19 22:00:00' '2012-12-19 23:00:00']\n",
            "\n",
            "\n",
            "\n",
            "\n",
            "season\n",
            "[1 2 3 4]\n",
            "\n",
            "\n",
            "\n",
            "\n",
            "holiday\n",
            "[0 1]\n",
            "\n",
            "\n",
            "\n",
            "\n",
            "workingday\n",
            "[0 1]\n",
            "\n",
            "\n",
            "\n",
            "\n",
            "weather\n",
            "[1 2 3 4]\n",
            "\n",
            "\n",
            "\n",
            "\n",
            "temp\n",
            "[ 9.84  9.02  8.2  13.12 15.58 14.76 17.22 18.86 18.04 16.4  13.94 12.3\n",
            " 10.66  6.56  5.74  7.38  4.92 11.48  4.1   3.28  2.46 21.32 22.96 23.78\n",
            " 24.6  19.68 22.14 20.5  27.06 26.24 25.42 27.88 28.7  30.34 31.16 29.52\n",
            " 33.62 35.26 36.9  32.8  31.98 34.44 36.08 37.72 38.54  1.64  0.82 39.36\n",
            " 41.  ]\n",
            "\n",
            "\n",
            "\n",
            "\n",
            "atemp\n",
            "[14.395 13.635 12.88  17.425 19.695 16.665 21.21  22.725 21.97  20.455\n",
            " 11.365 10.605  9.85   8.335  6.82   5.305  6.06   9.09  12.12   7.575\n",
            " 15.91   3.03   3.79   4.545 15.15  18.18  25.    26.515 27.275 29.545\n",
            " 23.485 25.76  31.06  30.305 24.24  18.94  31.82  32.575 33.335 28.79\n",
            " 34.85  35.605 37.12  40.15  41.665 40.91  39.395 34.09  28.03  36.365\n",
            " 37.88  42.425 43.94  38.635  1.515  0.76   2.275 43.18  44.695 45.455]\n",
            "\n",
            "\n",
            "\n",
            "\n",
            "humidity\n",
            "[ 81  80  75  86  76  77  72  82  88  87  94 100  71  66  57  46  42  39\n",
            "  44  47  50  43  40  35  30  32  64  69  55  59  63  68  74  51  56  52\n",
            "  49  48  37  33  28  38  36  93  29  53  34  54  41  45  92  62  58  61\n",
            "  60  65  70  27  25  26  31  73  21  24  23  22  19  15  67  10   8  12\n",
            "  14  13  17  16  18  20  85   0  83  84  78  79  89  97  90  96  91]\n",
            "\n",
            "\n",
            "\n",
            "\n",
            "windspeed\n",
            "[ 0.      6.0032 16.9979 19.0012 19.9995 12.998  15.0013  8.9981 11.0014\n",
            " 22.0028 30.0026 23.9994 27.9993 26.0027  7.0015 32.9975 36.9974 31.0009\n",
            " 35.0008 39.0007 43.9989 40.9973 51.9987 46.0022 50.0021 43.0006 56.9969\n",
            " 47.9988]\n",
            "\n",
            "\n",
            "\n",
            "\n",
            "casual\n",
            "[  3   8   5   0   2   1  12  26  29  47  35  40  41  15   9   6  11   4\n",
            "   7  16  20  19  10  13  14  18  17  21  33  23  22  28  48  52  42  24\n",
            "  30  27  32  58  62  51  25  31  59  45  73  55  68  34  38 102  84  39\n",
            "  36  43  46  60  80  83  74  37  70  81 100  99  54  88  97 144 149 124\n",
            "  98  50  72  57  71  67  95  90 126 174 168 170 175 138  92  56 111  89\n",
            "  69 139 166 219 240 147 148  78  53  63  79 114  94  85 128  93 121 156\n",
            " 135 103  44  49  64  91 119 167 181 179 161 143  75  66 109 123 113  65\n",
            "  86  82 132 129 196 142 122 106  61 107 120 195 183 206 158 137  76 115\n",
            " 150 188 193 180 127 154 108  96 110 112 169 131 176 134 162 153 210 118\n",
            " 141 146 159 178 177 136 215 198 248 225 194 237 242 235 224 236 222  77\n",
            "  87 101 145 182 171 160 133 105 104 187 221 201 205 234 185 164 200 130\n",
            " 155 116 125 204 186 214 245 218 217 152 191 256 251 262 189 212 272 223\n",
            " 208 165 229 151 117 199 140 226 286 352 357 367 291 233 190 283 295 232\n",
            " 173 184 172 320 355 326 321 354 299 227 254 260 207 274 308 288 311 253\n",
            " 197 163 275 298 282 266 220 241 230 157 293 257 269 255 228 276 332 361\n",
            " 356 331 279 203 250 259 297 265 267 192 239 238 213 264 244 243 246 289\n",
            " 287 209 263 249 247 284 327 325 312 350 258 362 310 317 268 202 294 280\n",
            " 216 292 304]\n",
            "\n",
            "\n",
            "\n",
            "\n",
            "registered\n",
            "[ 13  32  27  10   1   0   2   7   6  24  30  55  47  71  70  52  26  31\n",
            "  25  17  16   8   4  19  46  54  73  64  67  58  43  29  20   9   5   3\n",
            "  63 153  81  33  41  48  53  66 146 148 102  49  11  36  92 177  98  37\n",
            "  50  79  68 202 179 110  34  87 192 109  74  65  85 186 166 127  82  40\n",
            "  18  95 216 116  42  57  78  59 163 158  51  76 190 125 178  39  14  15\n",
            "  56  60  90  83  69  28  35  22  12  77  44  38  75 184 174 154  97 214\n",
            "  45  72 130  94 139 135 197 137 141 156 117 155 134  89  80 108  61 124\n",
            " 132 196 107 114 172 165 105 119 183 175  88  62  86 170 145 217  91 195\n",
            " 152  21 126 115 223 207 123 236 128 151 100 198 157 168  84  99 173 121\n",
            " 159  93  23 212 111 193 103 113 122 106  96 249 218 194 213 191 142 224\n",
            " 244 143 267 256 211 161 131 246 118 164 275 204 230 243 112 238 144 185\n",
            " 101 222 138 206 104 200 129 247 140 209 136 176 120 229 210 133 259 147\n",
            " 227 150 282 162 265 260 189 237 245 205 308 283 248 303 291 280 208 286\n",
            " 352 290 262 203 284 293 160 182 316 338 279 187 277 362 321 331 372 377\n",
            " 350 220 472 450 268 435 169 225 464 485 323 388 367 266 255 415 233 467\n",
            " 456 305 171 470 385 253 215 240 235 263 221 351 539 458 339 301 397 271\n",
            " 532 480 365 241 421 242 234 341 394 540 463 361 429 359 180 188 261 254\n",
            " 366 181 398 272 167 149 325 521 426 298 428 487 431 288 239 453 454 345\n",
            " 417 434 278 285 442 484 451 252 471 488 270 258 264 281 410 516 500 343\n",
            " 311 432 475 479 355 329 199 400 414 423 232 219 302 529 510 348 346 441\n",
            " 473 335 445 555 527 273 364 299 269 257 342 324 226 391 466 297 517 486\n",
            " 489 492 228 289 455 382 380 295 251 418 412 340 433 231 333 514 483 276\n",
            " 478 287 381 334 347 320 493 491 369 201 408 378 443 460 465 313 513 292\n",
            " 497 376 326 413 328 525 296 452 506 393 368 337 567 462 349 319 300 515\n",
            " 373 399 507 396 512 503 386 427 312 384 530 310 536 437 505 371 375 534\n",
            " 469 474 553 402 274 523 448 409 387 438 407 250 459 425 422 379 392 430\n",
            " 401 306 370 449 363 389 374 436 356 317 446 294 508 315 522 494 327 495\n",
            " 404 447 504 318 579 551 498 533 332 554 509 573 545 395 440 547 557 623\n",
            " 571 614 638 628 642 647 602 634 648 353 322 357 314 563 615 681 601 543\n",
            " 577 354 661 653 304 645 646 419 610 677 618 595 565 586 670 656 626 581\n",
            " 546 604 596 383 621 564 309 360 330 549 589 461 631 673 358 651 663 538\n",
            " 616 662 344 640 659 770 608 617 584 307 667 605 641 594 629 603 518 665\n",
            " 769 749 499 719 734 696 688 570 675 405 411 643 733 390 680 764 679 531\n",
            " 637 652 778 703 537 576 613 715 726 598 625 444 672 782 548 682 750 716\n",
            " 609 698 572 669 633 725 704 658 620 542 575 511 741 790 644 740 735 560\n",
            " 739 439 660 697 336 619 712 624 580 678 684 468 649 786 718 775 636 578\n",
            " 746 743 481 664 711 689 751 745 424 699 552 709 591 757 768 767 723 558\n",
            " 561 403 502 692 780 622 761 690 744 857 562 702 802 727 811 886 406 787\n",
            " 496 708 758 812 807 791 639 781 833 756 544 789 742 655 416 806 773 737\n",
            " 706 566 713 800 839 779 766 794 803 788 720 668 490 568 597 477 583 501\n",
            " 556 593 420 541 694 650 559 666 700 693 582]\n",
            "\n",
            "\n",
            "\n",
            "\n",
            "count\n",
            "[ 16  40  32  13   1   2   3   8  14  36  56  84  94 106 110  93  67  35\n",
            "  37  34  28  39  17   9   6  20  53  70  75  59  74  76  65  30  22  31\n",
            "   5  64 154  88  44  51  61  77  72 157  52  12   4 179 100  42  57  78\n",
            "  97  63  83 212 182 112  54  48  11  33 195 115  46  79  71  62  89 190\n",
            " 169 132  43  19  95 219 122  45  86 172 163  69  23   7 210 134  73  50\n",
            "  87 187 123  15  25  98 102  55  10  49  82  92  41  38 188  47 178 155\n",
            "  24  18  27  99 217 130 136  29 128  81  68 139 137 202  60 162 144 158\n",
            " 117  90 159 101 118 129  26 104  91 113 105  21  80 125 133 197 109 161\n",
            " 135 116 176 168 108 103 175 147  96 220 127 205 174 121 230  66 114 216\n",
            " 243 152 199  58 166 170 165 160 140 211 120 145 256 126 223  85 206 124\n",
            " 255 222 285 146 274 272 185 191 232 327 224 107 119 196 171 214 242 148\n",
            " 268 201 150 111 167 228 198 204 164 233 257 151 248 235 141 249 194 259\n",
            " 156 153 244 213 181 221 250 304 241 271 282 225 253 237 299 142 313 310\n",
            " 207 138 280 173 332 331 149 267 301 312 278 281 184 215 367 349 292 303\n",
            " 339 143 189 366 386 273 325 356 314 343 333 226 203 177 263 297 288 236\n",
            " 240 131 452 383 284 291 309 321 193 337 388 300 200 180 209 354 361 306\n",
            " 277 428 362 286 351 192 411 421 276 264 238 266 371 269 537 518 218 265\n",
            " 459 186 517 544 365 290 410 396 296 440 533 520 258 450 246 260 344 553\n",
            " 470 298 347 373 436 378 342 289 340 382 390 358 385 239 374 598 524 384\n",
            " 425 611 550 434 318 442 401 234 594 527 364 387 491 398 270 279 294 295\n",
            " 322 456 437 392 231 394 453 308 604 480 283 565 489 487 183 302 547 513\n",
            " 454 486 467 572 525 379 502 558 564 391 293 247 317 369 420 451 404 341\n",
            " 251 335 417 363 357 438 579 556 407 336 334 477 539 551 424 346 353 481\n",
            " 506 432 409 466 326 254 463 380 275 311 315 360 350 252 328 476 227 601\n",
            " 586 423 330 569 538 370 498 638 607 416 261 355 552 208 468 449 381 377\n",
            " 397 492 427 461 422 305 375 376 414 447 408 418 457 545 496 368 245 596\n",
            " 563 443 562 229 316 402 287 372 514 472 511 488 419 595 578 400 348 587\n",
            " 497 433 475 406 430 324 262 323 412 530 543 413 435 555 523 441 529 532\n",
            " 585 399 584 559 307 582 571 426 516 465 329 483 600 570 628 531 455 389\n",
            " 505 359 431 460 590 429 599 338 566 482 568 540 495 345 591 593 446 485\n",
            " 393 500 473 352 320 479 444 462 405 620 499 625 395 528 319 519 445 512\n",
            " 471 508 526 509 484 448 515 549 501 612 597 464 644 712 676 734 662 782\n",
            " 749 623 713 746 651 686 690 679 685 648 560 503 521 554 541 721 801 561\n",
            " 573 589 729 618 494 757 800 684 744 759 822 698 490 536 655 643 626 615\n",
            " 567 617 632 646 692 704 624 656 610 738 671 678 660 658 635 681 616 522\n",
            " 673 781 775 576 677 748 776 557 743 666 813 504 627 706 641 575 639 769\n",
            " 680 546 717 710 458 622 705 630 732 770 439 779 659 602 478 733 650 873\n",
            " 846 474 634 852 868 745 812 669 642 730 672 645 694 493 668 647 702 665\n",
            " 834 850 790 415 724 869 700 793 723 534 831 613 653 857 719 867 823 403\n",
            " 693 603 583 542 614 580 811 795 747 581 722 689 849 872 631 649 819 674\n",
            " 830 814 633 825 629 835 667 755 794 661 772 657 771 777 837 891 652 739\n",
            " 865 767 741 469 605 858 843 640 737 862 810 577 818 854 682 851 848 897\n",
            " 832 791 654 856 839 725 863 808 792 696 701 871 968 750 970 877 925 977\n",
            " 758 884 766 894 715 783 683 842 774 797 886 892 784 687 809 917 901 887\n",
            " 785 900 761 806 507 948 844 798 827 670 637 619 592 943 838 817 888 890\n",
            " 788 588 606 608 691 711 663 731 708 609 688 636]\n",
            "\n",
            "\n"
          ]
        }
      ]
    },
    {
      "cell_type": "code",
      "metadata": {
        "colab": {
          "base_uri": "https://localhost:8080/"
        },
        "id": "6V23wFJAnpf1",
        "outputId": "51eda840-a42c-4912-8211-7dcb9372025a"
      },
      "source": [
        "for col in testdata:\n",
        "    print(\"\\n\")\n",
        "    print(col)\n",
        "    print(testdata[col].unique())\n",
        "    print(\"\\n\")\n"
      ],
      "execution_count": null,
      "outputs": [
        {
          "output_type": "stream",
          "name": "stdout",
          "text": [
            "\n",
            "\n",
            "datetime\n",
            "['2011-01-20 00:00:00' '2011-01-20 01:00:00' '2011-01-20 02:00:00' ...\n",
            " '2012-12-31 21:00:00' '2012-12-31 22:00:00' '2012-12-31 23:00:00']\n",
            "\n",
            "\n",
            "\n",
            "\n",
            "season\n",
            "[1 2 3 4]\n",
            "\n",
            "\n",
            "\n",
            "\n",
            "holiday\n",
            "[0 1]\n",
            "\n",
            "\n",
            "\n",
            "\n",
            "workingday\n",
            "[1 0]\n",
            "\n",
            "\n",
            "\n",
            "\n",
            "weather\n",
            "[1 2 3 4]\n",
            "\n",
            "\n",
            "\n",
            "\n",
            "temp\n",
            "[10.66  9.84  9.02 11.48 12.3  13.12  8.2   6.56  5.74  4.92  4.1   3.28\n",
            "  2.46  1.64  0.82  7.38 13.94 14.76 17.22 15.58 16.4  21.32 22.14 22.96\n",
            " 18.86 18.04 19.68 20.5  23.78 25.42 27.06 28.7  30.34 31.16 27.88 24.6\n",
            " 26.24 29.52 31.98 33.62 32.8  35.26 36.08 36.9  34.44 37.72 38.54 39.36\n",
            " 40.18]\n",
            "\n",
            "\n",
            "\n",
            "\n",
            "atemp\n",
            "[11.365 13.635 12.88  10.605 16.665 14.395 15.15  15.91  12.12   9.85\n",
            "  9.09   8.335  7.575  6.06   6.82   5.305  3.79   1.515  2.275  0.\n",
            "  0.76   3.03   4.545 17.425 18.18  21.21  19.695 20.455 25.    25.76\n",
            " 26.515 22.725 21.97  23.485 24.24  27.275 30.305 31.06  32.575 33.335\n",
            " 31.82  29.545 28.79  28.03  34.09  34.85  37.12  38.635 37.88  36.365\n",
            " 35.605 40.15  39.395 41.665 40.91  42.425 43.18  44.695 46.21  45.455\n",
            " 47.725 49.24  50.    43.94  18.94 ]\n",
            "\n",
            "\n",
            "\n",
            "\n",
            "humidity\n",
            "[ 56  60  55  52  48  45  42  49  65  70  75  80  87  51  47  41  27  21\n",
            "  25  26  28  30  33  38  44  35  57  62  58  54  46  43  37  36  40  50\n",
            "  59  63  64  69  74  86  93  61  29  53  66  81  76  72 100  94  77  96\n",
            "  82  88  39  34  32  71  90  23  24  31  22  20  83  78  73  67  68  89\n",
            "  79  84  18  17  16  19  85]\n",
            "\n",
            "\n",
            "\n",
            "\n",
            "windspeed\n",
            "[26.0027  0.     11.0014 15.0013 19.0012 19.9995  7.0015  8.9981 12.998\n",
            " 22.0028 16.9979  6.0032 27.9993 23.9994 31.0009 39.0007 35.0008 30.0026\n",
            " 36.9974 40.9973 54.002  50.0021 32.9975 43.0006 55.9986 46.0022 43.9989]\n",
            "\n",
            "\n"
          ]
        }
      ]
    },
    {
      "cell_type": "code",
      "metadata": {
        "colab": {
          "base_uri": "https://localhost:8080/"
        },
        "id": "10bMoaQLoNwb",
        "outputId": "deb7190f-b63d-446a-b68a-44cc27be996f"
      },
      "source": [
        "print(col,'\\n', traindata['season'].value_counts(normalize=True))\n",
        "print(col,'\\n', traindata['holiday'].value_counts(normalize=True))\n",
        "print(col,'\\n', traindata['workingday'].value_counts(normalize=True))\n",
        "print(col,'\\n', traindata['weather'].value_counts(normalize=True))\n"
      ],
      "execution_count": null,
      "outputs": [
        {
          "output_type": "stream",
          "name": "stdout",
          "text": [
            "windspeed \n",
            " 4    0.251148\n",
            "3    0.251056\n",
            "2    0.251056\n",
            "1    0.246739\n",
            "Name: season, dtype: float64\n",
            "windspeed \n",
            " 0    0.971431\n",
            "1    0.028569\n",
            "Name: holiday, dtype: float64\n",
            "windspeed \n",
            " 1    0.680875\n",
            "0    0.319125\n",
            "Name: workingday, dtype: float64\n",
            "windspeed \n",
            " 1    0.660665\n",
            "2    0.260334\n",
            "3    0.078909\n",
            "4    0.000092\n",
            "Name: weather, dtype: float64\n"
          ]
        }
      ]
    },
    {
      "cell_type": "code",
      "metadata": {
        "id": "ZQj2x5ZInpUj"
      },
      "source": [
        "# for col in traindata:\n",
        "#   ax = sns.countplot(x=col, data=traindata,\n",
        "#   facecolor=(0, 0, 0, 0),\n",
        "#   linewidth=5,edgecolor=sns.color_palette(\"dark\", 3))\n"
      ],
      "execution_count": null,
      "outputs": []
    },
    {
      "cell_type": "code",
      "metadata": {
        "colab": {
          "base_uri": "https://localhost:8080/",
          "height": 206
        },
        "id": "sOTqWZ9B2gn2",
        "outputId": "6a6b93d9-b157-46c3-a4ad-a866edf22a37"
      },
      "source": [
        "traindata.head()"
      ],
      "execution_count": null,
      "outputs": [
        {
          "output_type": "execute_result",
          "data": {
            "text/html": [
              "<div>\n",
              "<style scoped>\n",
              "    .dataframe tbody tr th:only-of-type {\n",
              "        vertical-align: middle;\n",
              "    }\n",
              "\n",
              "    .dataframe tbody tr th {\n",
              "        vertical-align: top;\n",
              "    }\n",
              "\n",
              "    .dataframe thead th {\n",
              "        text-align: right;\n",
              "    }\n",
              "</style>\n",
              "<table border=\"1\" class=\"dataframe\">\n",
              "  <thead>\n",
              "    <tr style=\"text-align: right;\">\n",
              "      <th></th>\n",
              "      <th>datetime</th>\n",
              "      <th>season</th>\n",
              "      <th>holiday</th>\n",
              "      <th>workingday</th>\n",
              "      <th>weather</th>\n",
              "      <th>temp</th>\n",
              "      <th>atemp</th>\n",
              "      <th>humidity</th>\n",
              "      <th>windspeed</th>\n",
              "      <th>casual</th>\n",
              "      <th>registered</th>\n",
              "      <th>count</th>\n",
              "    </tr>\n",
              "  </thead>\n",
              "  <tbody>\n",
              "    <tr>\n",
              "      <th>0</th>\n",
              "      <td>2011-01-01 00:00:00</td>\n",
              "      <td>1</td>\n",
              "      <td>0</td>\n",
              "      <td>0</td>\n",
              "      <td>1</td>\n",
              "      <td>9.84</td>\n",
              "      <td>14.395</td>\n",
              "      <td>81</td>\n",
              "      <td>0.0</td>\n",
              "      <td>3</td>\n",
              "      <td>13</td>\n",
              "      <td>16</td>\n",
              "    </tr>\n",
              "    <tr>\n",
              "      <th>1</th>\n",
              "      <td>2011-01-01 01:00:00</td>\n",
              "      <td>1</td>\n",
              "      <td>0</td>\n",
              "      <td>0</td>\n",
              "      <td>1</td>\n",
              "      <td>9.02</td>\n",
              "      <td>13.635</td>\n",
              "      <td>80</td>\n",
              "      <td>0.0</td>\n",
              "      <td>8</td>\n",
              "      <td>32</td>\n",
              "      <td>40</td>\n",
              "    </tr>\n",
              "    <tr>\n",
              "      <th>2</th>\n",
              "      <td>2011-01-01 02:00:00</td>\n",
              "      <td>1</td>\n",
              "      <td>0</td>\n",
              "      <td>0</td>\n",
              "      <td>1</td>\n",
              "      <td>9.02</td>\n",
              "      <td>13.635</td>\n",
              "      <td>80</td>\n",
              "      <td>0.0</td>\n",
              "      <td>5</td>\n",
              "      <td>27</td>\n",
              "      <td>32</td>\n",
              "    </tr>\n",
              "    <tr>\n",
              "      <th>3</th>\n",
              "      <td>2011-01-01 03:00:00</td>\n",
              "      <td>1</td>\n",
              "      <td>0</td>\n",
              "      <td>0</td>\n",
              "      <td>1</td>\n",
              "      <td>9.84</td>\n",
              "      <td>14.395</td>\n",
              "      <td>75</td>\n",
              "      <td>0.0</td>\n",
              "      <td>3</td>\n",
              "      <td>10</td>\n",
              "      <td>13</td>\n",
              "    </tr>\n",
              "    <tr>\n",
              "      <th>4</th>\n",
              "      <td>2011-01-01 04:00:00</td>\n",
              "      <td>1</td>\n",
              "      <td>0</td>\n",
              "      <td>0</td>\n",
              "      <td>1</td>\n",
              "      <td>9.84</td>\n",
              "      <td>14.395</td>\n",
              "      <td>75</td>\n",
              "      <td>0.0</td>\n",
              "      <td>0</td>\n",
              "      <td>1</td>\n",
              "      <td>1</td>\n",
              "    </tr>\n",
              "  </tbody>\n",
              "</table>\n",
              "</div>"
            ],
            "text/plain": [
              "              datetime  season  holiday  ...  casual  registered  count\n",
              "0  2011-01-01 00:00:00       1        0  ...       3          13     16\n",
              "1  2011-01-01 01:00:00       1        0  ...       8          32     40\n",
              "2  2011-01-01 02:00:00       1        0  ...       5          27     32\n",
              "3  2011-01-01 03:00:00       1        0  ...       3          10     13\n",
              "4  2011-01-01 04:00:00       1        0  ...       0           1      1\n",
              "\n",
              "[5 rows x 12 columns]"
            ]
          },
          "metadata": {},
          "execution_count": 172
        }
      ]
    },
    {
      "cell_type": "code",
      "metadata": {
        "colab": {
          "base_uri": "https://localhost:8080/",
          "height": 297
        },
        "id": "q8u5i8qtqdce",
        "outputId": "19031e49-53fa-4de9-feb6-34a20b7b9019"
      },
      "source": [
        "# Regression plot (scatter plot +  regression line) for no of bike rentals and variables\n",
        "sns.regplot(x=\"weather\", y='count', data=traindata, line_kws = {\"color\" : \"red\"})\n"
      ],
      "execution_count": null,
      "outputs": [
        {
          "output_type": "execute_result",
          "data": {
            "text/plain": [
              "<matplotlib.axes._subplots.AxesSubplot at 0x7f012c697c50>"
            ]
          },
          "metadata": {},
          "execution_count": 187
        },
        {
          "output_type": "display_data",
          "data": {
            "image/png": "[encoded data removed]",
            "text/plain": [
              "<Figure size 432x288 with 1 Axes>"
            ]
          },
          "metadata": {
            "needs_background": "light"
          }
        }
      ]
    },
    {
      "cell_type": "code",
      "metadata": {
        "colab": {
          "base_uri": "https://localhost:8080/",
          "height": 297
        },
        "id": "Jza7Kb4d3dzK",
        "outputId": "0e091be6-be3a-4780-ae16-6a4c6d451c76"
      },
      "source": [
        "sns.regplot(x=\"humidity\", y=\"count\", data=traindata, line_kws = {\"color\" : \"red\"})"
      ],
      "execution_count": null,
      "outputs": [
        {
          "output_type": "execute_result",
          "data": {
            "text/plain": [
              "<matplotlib.axes._subplots.AxesSubplot at 0x7f012c7f6c90>"
            ]
          },
          "metadata": {},
          "execution_count": 184
        },
        {
          "output_type": "display_data",
          "data": {
            "image/png": "[encoded data removed]",
            "text/plain": [
              "<Figure size 432x288 with 1 Axes>"
            ]
          },
          "metadata": {
            "needs_background": "light"
          }
        }
      ]
    },
    {
      "cell_type": "code",
      "metadata": {
        "colab": {
          "base_uri": "https://localhost:8080/",
          "height": 297
        },
        "id": "NKdAEdvR3h_7",
        "outputId": "adefd4a3-b746-42af-ee31-5d0fb5d90043"
      },
      "source": [
        "sns.regplot(x=\"temp\", y=\"count\", data=traindata, line_kws = {\"color\" : \"red\"})"
      ],
      "execution_count": null,
      "outputs": [
        {
          "output_type": "execute_result",
          "data": {
            "text/plain": [
              "<matplotlib.axes._subplots.AxesSubplot at 0x7f012c740050>"
            ]
          },
          "metadata": {},
          "execution_count": 185
        },
        {
          "output_type": "display_data",
          "data": {
            "image/png": "[encoded data removed]",
            "text/plain": [
              "<Figure size 432x288 with 1 Axes>"
            ]
          },
          "metadata": {
            "needs_background": "light"
          }
        }
      ]
    },
    {
      "cell_type": "code",
      "metadata": {
        "colab": {
          "base_uri": "https://localhost:8080/",
          "height": 297
        },
        "id": "5oTXLZpY3lFx",
        "outputId": "e91d43b8-8f99-4317-ca3a-97d1f2388b06"
      },
      "source": [
        "sns.regplot(x=\"holiday\", y=\"count\", data=traindata, line_kws = {\"color\" : \"red\"})\n"
      ],
      "execution_count": null,
      "outputs": [
        {
          "output_type": "execute_result",
          "data": {
            "text/plain": [
              "<matplotlib.axes._subplots.AxesSubplot at 0x7f012bd46910>"
            ]
          },
          "metadata": {},
          "execution_count": 248
        },
        {
          "output_type": "display_data",
          "data": {
            "image/png": "[encoded data removed]",
            "text/plain": [
              "<Figure size 432x288 with 1 Axes>"
            ]
          },
          "metadata": {
            "needs_background": "light"
          }
        }
      ]
    },
    {
      "cell_type": "code",
      "metadata": {
        "colab": {
          "base_uri": "https://localhost:8080/",
          "height": 297
        },
        "id": "1fSjTjue3rsc",
        "outputId": "06b40b5d-442a-413d-d00e-f389c2956f3c"
      },
      "source": [
        "sns.regplot(x=\"workingday\", y=\"count\", data=traindata,line_kws = {\"color\" : \"red\"})\n"
      ],
      "execution_count": null,
      "outputs": [
        {
          "output_type": "execute_result",
          "data": {
            "text/plain": [
              "<matplotlib.axes._subplots.AxesSubplot at 0x7f012c6ab790>"
            ]
          },
          "metadata": {},
          "execution_count": 186
        },
        {
          "output_type": "display_data",
          "data": {
            "image/png": "[encoded data removed]",
            "text/plain": [
              "<Figure size 432x288 with 1 Axes>"
            ]
          },
          "metadata": {
            "needs_background": "light"
          }
        }
      ]
    },
    {
      "cell_type": "code",
      "metadata": {
        "colab": {
          "base_uri": "https://localhost:8080/",
          "height": 613
        },
        "id": "maluHsA4O9rr",
        "outputId": "05a65e68-4728-4445-dfc7-7ccf58716307"
      },
      "source": [
        "# correlation matrix\n",
        "bikes_correlation = traindata.corr()\n",
        "plt.figure(figsize = (19,10))\n",
        "sns.heatmap(bikes_correlation, annot = True)"
      ],
      "execution_count": null,
      "outputs": [
        {
          "output_type": "execute_result",
          "data": {
            "text/plain": [
              "<matplotlib.axes._subplots.AxesSubplot at 0x7f012bb95890>"
            ]
          },
          "metadata": {},
          "execution_count": 279
        },
        {
          "output_type": "display_data",
          "data": {
            "image/png": "[encoded data removed]",
            "text/plain": [
              "<Figure size 1368x720 with 2 Axes>"
            ]
          },
          "metadata": {
            "needs_background": "light"
          }
        }
      ]
    },
    {
      "cell_type": "markdown",
      "metadata": {
        "id": "VNs83Jg6kmFo"
      },
      "source": [
        "# **DATA CLEANING**"
      ]
    },
    {
      "cell_type": "code",
      "metadata": {
        "id": "_jBMoiyhkjI8"
      },
      "source": [
        "traindata.drop(columns= ['registered', 'casual'], inplace = True)"
      ],
      "execution_count": null,
      "outputs": []
    },
    {
      "cell_type": "code",
      "metadata": {
        "colab": {
          "base_uri": "https://localhost:8080/",
          "height": 206
        },
        "id": "WcDhmJg-Q5AI",
        "outputId": "f3fdd1a1-adcf-4eab-bd9f-a18bbe99ca6d"
      },
      "source": [
        "traindata.head()"
      ],
      "execution_count": null,
      "outputs": [
        {
          "output_type": "execute_result",
          "data": {
            "text/html": [
              "<div>\n",
              "<style scoped>\n",
              "    .dataframe tbody tr th:only-of-type {\n",
              "        vertical-align: middle;\n",
              "    }\n",
              "\n",
              "    .dataframe tbody tr th {\n",
              "        vertical-align: top;\n",
              "    }\n",
              "\n",
              "    .dataframe thead th {\n",
              "        text-align: right;\n",
              "    }\n",
              "</style>\n",
              "<table border=\"1\" class=\"dataframe\">\n",
              "  <thead>\n",
              "    <tr style=\"text-align: right;\">\n",
              "      <th></th>\n",
              "      <th>datetime</th>\n",
              "      <th>season</th>\n",
              "      <th>holiday</th>\n",
              "      <th>workingday</th>\n",
              "      <th>weather</th>\n",
              "      <th>temp</th>\n",
              "      <th>atemp</th>\n",
              "      <th>humidity</th>\n",
              "      <th>windspeed</th>\n",
              "      <th>total_bikes_rented</th>\n",
              "      <th>time_hour</th>\n",
              "      <th>time_day</th>\n",
              "      <th>hours_binned</th>\n",
              "    </tr>\n",
              "  </thead>\n",
              "  <tbody>\n",
              "    <tr>\n",
              "      <th>0</th>\n",
              "      <td>2011-01-01 00:00:00</td>\n",
              "      <td>1</td>\n",
              "      <td>0</td>\n",
              "      <td>0</td>\n",
              "      <td>1</td>\n",
              "      <td>9.84</td>\n",
              "      <td>14.395</td>\n",
              "      <td>81</td>\n",
              "      <td>0.0</td>\n",
              "      <td>16</td>\n",
              "      <td>0</td>\n",
              "      <td>2</td>\n",
              "      <td>1</td>\n",
              "    </tr>\n",
              "    <tr>\n",
              "      <th>1</th>\n",
              "      <td>2011-01-01 01:00:00</td>\n",
              "      <td>1</td>\n",
              "      <td>0</td>\n",
              "      <td>0</td>\n",
              "      <td>1</td>\n",
              "      <td>9.02</td>\n",
              "      <td>13.635</td>\n",
              "      <td>80</td>\n",
              "      <td>0.0</td>\n",
              "      <td>40</td>\n",
              "      <td>1</td>\n",
              "      <td>2</td>\n",
              "      <td>1</td>\n",
              "    </tr>\n",
              "    <tr>\n",
              "      <th>2</th>\n",
              "      <td>2011-01-01 02:00:00</td>\n",
              "      <td>1</td>\n",
              "      <td>0</td>\n",
              "      <td>0</td>\n",
              "      <td>1</td>\n",
              "      <td>9.02</td>\n",
              "      <td>13.635</td>\n",
              "      <td>80</td>\n",
              "      <td>0.0</td>\n",
              "      <td>32</td>\n",
              "      <td>2</td>\n",
              "      <td>2</td>\n",
              "      <td>1</td>\n",
              "    </tr>\n",
              "    <tr>\n",
              "      <th>3</th>\n",
              "      <td>2011-01-01 03:00:00</td>\n",
              "      <td>1</td>\n",
              "      <td>0</td>\n",
              "      <td>0</td>\n",
              "      <td>1</td>\n",
              "      <td>9.84</td>\n",
              "      <td>14.395</td>\n",
              "      <td>75</td>\n",
              "      <td>0.0</td>\n",
              "      <td>13</td>\n",
              "      <td>3</td>\n",
              "      <td>2</td>\n",
              "      <td>1</td>\n",
              "    </tr>\n",
              "    <tr>\n",
              "      <th>4</th>\n",
              "      <td>2011-01-01 04:00:00</td>\n",
              "      <td>1</td>\n",
              "      <td>0</td>\n",
              "      <td>0</td>\n",
              "      <td>1</td>\n",
              "      <td>9.84</td>\n",
              "      <td>14.395</td>\n",
              "      <td>75</td>\n",
              "      <td>0.0</td>\n",
              "      <td>1</td>\n",
              "      <td>4</td>\n",
              "      <td>2</td>\n",
              "      <td>1</td>\n",
              "    </tr>\n",
              "  </tbody>\n",
              "</table>\n",
              "</div>"
            ],
            "text/plain": [
              "             datetime  season  holiday  ...  time_hour  time_day  hours_binned\n",
              "0 2011-01-01 00:00:00       1        0  ...          0         2             1\n",
              "1 2011-01-01 01:00:00       1        0  ...          1         2             1\n",
              "2 2011-01-01 02:00:00       1        0  ...          2         2             1\n",
              "3 2011-01-01 03:00:00       1        0  ...          3         2             1\n",
              "4 2011-01-01 04:00:00       1        0  ...          4         2             1\n",
              "\n",
              "[5 rows x 13 columns]"
            ]
          },
          "metadata": {},
          "execution_count": 281
        }
      ]
    },
    {
      "cell_type": "code",
      "metadata": {
        "id": "Ethcpx8qktgS"
      },
      "source": [
        "traindata.rename(columns= {'count':'total_bikes_rented'}, inplace = True)\n"
      ],
      "execution_count": null,
      "outputs": []
    },
    {
      "cell_type": "code",
      "metadata": {
        "id": "FrSE6gqHHsbu"
      },
      "source": [
        "testdata.rename(columns= {'count':'total_bikes_rented'}, inplace = True)\n"
      ],
      "execution_count": null,
      "outputs": []
    },
    {
      "cell_type": "code",
      "metadata": {
        "id": "PPe4nwnImMee"
      },
      "source": [
        "# converting column 'datetime' datatype to datetime\n",
        "import datetime\n",
        "traindata['datetime'] = traindata['datetime'].apply(pd.to_datetime)\n",
        "\n",
        "# extracting day from 'datetime' column\n",
        "traindata['time_hour'] = traindata['datetime'].dt.hour\n",
        "traindata['time_day'] = traindata['datetime'].dt.day_name()\n"
      ],
      "execution_count": null,
      "outputs": []
    },
    {
      "cell_type": "code",
      "metadata": {
        "colab": {
          "base_uri": "https://localhost:8080/",
          "height": 206
        },
        "id": "4wVGIHqpCR5i",
        "outputId": "bc3c1bc8-6a33-4c64-fd68-05249ecbb3f4"
      },
      "source": [
        "traindata.head()"
      ],
      "execution_count": null,
      "outputs": [
        {
          "output_type": "execute_result",
          "data": {
            "text/html": [
              "<div>\n",
              "<style scoped>\n",
              "    .dataframe tbody tr th:only-of-type {\n",
              "        vertical-align: middle;\n",
              "    }\n",
              "\n",
              "    .dataframe tbody tr th {\n",
              "        vertical-align: top;\n",
              "    }\n",
              "\n",
              "    .dataframe thead th {\n",
              "        text-align: right;\n",
              "    }\n",
              "</style>\n",
              "<table border=\"1\" class=\"dataframe\">\n",
              "  <thead>\n",
              "    <tr style=\"text-align: right;\">\n",
              "      <th></th>\n",
              "      <th>datetime</th>\n",
              "      <th>season</th>\n",
              "      <th>holiday</th>\n",
              "      <th>workingday</th>\n",
              "      <th>weather</th>\n",
              "      <th>temp</th>\n",
              "      <th>atemp</th>\n",
              "      <th>humidity</th>\n",
              "      <th>windspeed</th>\n",
              "      <th>casual</th>\n",
              "      <th>registered</th>\n",
              "      <th>count</th>\n",
              "      <th>time_hour</th>\n",
              "      <th>time_day</th>\n",
              "    </tr>\n",
              "  </thead>\n",
              "  <tbody>\n",
              "    <tr>\n",
              "      <th>0</th>\n",
              "      <td>2011-01-01 00:00:00</td>\n",
              "      <td>1</td>\n",
              "      <td>0</td>\n",
              "      <td>0</td>\n",
              "      <td>1</td>\n",
              "      <td>9.84</td>\n",
              "      <td>14.395</td>\n",
              "      <td>81</td>\n",
              "      <td>0.0</td>\n",
              "      <td>3</td>\n",
              "      <td>13</td>\n",
              "      <td>16</td>\n",
              "      <td>0</td>\n",
              "      <td>Saturday</td>\n",
              "    </tr>\n",
              "    <tr>\n",
              "      <th>1</th>\n",
              "      <td>2011-01-01 01:00:00</td>\n",
              "      <td>1</td>\n",
              "      <td>0</td>\n",
              "      <td>0</td>\n",
              "      <td>1</td>\n",
              "      <td>9.02</td>\n",
              "      <td>13.635</td>\n",
              "      <td>80</td>\n",
              "      <td>0.0</td>\n",
              "      <td>8</td>\n",
              "      <td>32</td>\n",
              "      <td>40</td>\n",
              "      <td>1</td>\n",
              "      <td>Saturday</td>\n",
              "    </tr>\n",
              "    <tr>\n",
              "      <th>2</th>\n",
              "      <td>2011-01-01 02:00:00</td>\n",
              "      <td>1</td>\n",
              "      <td>0</td>\n",
              "      <td>0</td>\n",
              "      <td>1</td>\n",
              "      <td>9.02</td>\n",
              "      <td>13.635</td>\n",
              "      <td>80</td>\n",
              "      <td>0.0</td>\n",
              "      <td>5</td>\n",
              "      <td>27</td>\n",
              "      <td>32</td>\n",
              "      <td>2</td>\n",
              "      <td>Saturday</td>\n",
              "    </tr>\n",
              "    <tr>\n",
              "      <th>3</th>\n",
              "      <td>2011-01-01 03:00:00</td>\n",
              "      <td>1</td>\n",
              "      <td>0</td>\n",
              "      <td>0</td>\n",
              "      <td>1</td>\n",
              "      <td>9.84</td>\n",
              "      <td>14.395</td>\n",
              "      <td>75</td>\n",
              "      <td>0.0</td>\n",
              "      <td>3</td>\n",
              "      <td>10</td>\n",
              "      <td>13</td>\n",
              "      <td>3</td>\n",
              "      <td>Saturday</td>\n",
              "    </tr>\n",
              "    <tr>\n",
              "      <th>4</th>\n",
              "      <td>2011-01-01 04:00:00</td>\n",
              "      <td>1</td>\n",
              "      <td>0</td>\n",
              "      <td>0</td>\n",
              "      <td>1</td>\n",
              "      <td>9.84</td>\n",
              "      <td>14.395</td>\n",
              "      <td>75</td>\n",
              "      <td>0.0</td>\n",
              "      <td>0</td>\n",
              "      <td>1</td>\n",
              "      <td>1</td>\n",
              "      <td>4</td>\n",
              "      <td>Saturday</td>\n",
              "    </tr>\n",
              "  </tbody>\n",
              "</table>\n",
              "</div>"
            ],
            "text/plain": [
              "             datetime  season  holiday  ...  count  time_hour  time_day\n",
              "0 2011-01-01 00:00:00       1        0  ...     16          0  Saturday\n",
              "1 2011-01-01 01:00:00       1        0  ...     40          1  Saturday\n",
              "2 2011-01-01 02:00:00       1        0  ...     32          2  Saturday\n",
              "3 2011-01-01 03:00:00       1        0  ...     13          3  Saturday\n",
              "4 2011-01-01 04:00:00       1        0  ...      1          4  Saturday\n",
              "\n",
              "[5 rows x 14 columns]"
            ]
          },
          "metadata": {},
          "execution_count": 229
        }
      ]
    },
    {
      "cell_type": "markdown",
      "metadata": {
        "id": "sCWFWLI0H3bF"
      },
      "source": [
        ""
      ]
    },
    {
      "cell_type": "code",
      "metadata": {
        "id": "0YBEaWBRCWgr"
      },
      "source": [
        "# converting column 'datetime' datatype to datetime\n",
        "import datetime\n",
        "testdata['datetime'] = testdata['datetime'].apply(pd.to_datetime)\n",
        "\n",
        "# extracting day from 'datetime' column\n",
        "testdata['time_hour'] = testdata['datetime'].dt.hour\n",
        "testdata['time_day'] = testdata['datetime'].dt.day_name()\n"
      ],
      "execution_count": null,
      "outputs": []
    },
    {
      "cell_type": "code",
      "metadata": {
        "colab": {
          "base_uri": "https://localhost:8080/",
          "height": 206
        },
        "id": "blaVZsRgCqD_",
        "outputId": "8908d24f-6a96-49ab-c1f8-99ea5d52d035"
      },
      "source": [
        "testdata.head()"
      ],
      "execution_count": null,
      "outputs": [
        {
          "output_type": "execute_result",
          "data": {
            "text/html": [
              "<div>\n",
              "<style scoped>\n",
              "    .dataframe tbody tr th:only-of-type {\n",
              "        vertical-align: middle;\n",
              "    }\n",
              "\n",
              "    .dataframe tbody tr th {\n",
              "        vertical-align: top;\n",
              "    }\n",
              "\n",
              "    .dataframe thead th {\n",
              "        text-align: right;\n",
              "    }\n",
              "</style>\n",
              "<table border=\"1\" class=\"dataframe\">\n",
              "  <thead>\n",
              "    <tr style=\"text-align: right;\">\n",
              "      <th></th>\n",
              "      <th>datetime</th>\n",
              "      <th>season</th>\n",
              "      <th>holiday</th>\n",
              "      <th>workingday</th>\n",
              "      <th>weather</th>\n",
              "      <th>temp</th>\n",
              "      <th>atemp</th>\n",
              "      <th>humidity</th>\n",
              "      <th>windspeed</th>\n",
              "      <th>time_hour</th>\n",
              "      <th>time_day</th>\n",
              "    </tr>\n",
              "  </thead>\n",
              "  <tbody>\n",
              "    <tr>\n",
              "      <th>0</th>\n",
              "      <td>2011-01-20 00:00:00</td>\n",
              "      <td>1</td>\n",
              "      <td>0</td>\n",
              "      <td>1</td>\n",
              "      <td>1</td>\n",
              "      <td>10.66</td>\n",
              "      <td>11.365</td>\n",
              "      <td>56</td>\n",
              "      <td>26.0027</td>\n",
              "      <td>0</td>\n",
              "      <td>Thursday</td>\n",
              "    </tr>\n",
              "    <tr>\n",
              "      <th>1</th>\n",
              "      <td>2011-01-20 01:00:00</td>\n",
              "      <td>1</td>\n",
              "      <td>0</td>\n",
              "      <td>1</td>\n",
              "      <td>1</td>\n",
              "      <td>10.66</td>\n",
              "      <td>13.635</td>\n",
              "      <td>56</td>\n",
              "      <td>0.0000</td>\n",
              "      <td>1</td>\n",
              "      <td>Thursday</td>\n",
              "    </tr>\n",
              "    <tr>\n",
              "      <th>2</th>\n",
              "      <td>2011-01-20 02:00:00</td>\n",
              "      <td>1</td>\n",
              "      <td>0</td>\n",
              "      <td>1</td>\n",
              "      <td>1</td>\n",
              "      <td>10.66</td>\n",
              "      <td>13.635</td>\n",
              "      <td>56</td>\n",
              "      <td>0.0000</td>\n",
              "      <td>2</td>\n",
              "      <td>Thursday</td>\n",
              "    </tr>\n",
              "    <tr>\n",
              "      <th>3</th>\n",
              "      <td>2011-01-20 03:00:00</td>\n",
              "      <td>1</td>\n",
              "      <td>0</td>\n",
              "      <td>1</td>\n",
              "      <td>1</td>\n",
              "      <td>10.66</td>\n",
              "      <td>12.880</td>\n",
              "      <td>56</td>\n",
              "      <td>11.0014</td>\n",
              "      <td>3</td>\n",
              "      <td>Thursday</td>\n",
              "    </tr>\n",
              "    <tr>\n",
              "      <th>4</th>\n",
              "      <td>2011-01-20 04:00:00</td>\n",
              "      <td>1</td>\n",
              "      <td>0</td>\n",
              "      <td>1</td>\n",
              "      <td>1</td>\n",
              "      <td>10.66</td>\n",
              "      <td>12.880</td>\n",
              "      <td>56</td>\n",
              "      <td>11.0014</td>\n",
              "      <td>4</td>\n",
              "      <td>Thursday</td>\n",
              "    </tr>\n",
              "  </tbody>\n",
              "</table>\n",
              "</div>"
            ],
            "text/plain": [
              "             datetime  season  holiday  ...  windspeed  time_hour  time_day\n",
              "0 2011-01-20 00:00:00       1        0  ...    26.0027          0  Thursday\n",
              "1 2011-01-20 01:00:00       1        0  ...     0.0000          1  Thursday\n",
              "2 2011-01-20 02:00:00       1        0  ...     0.0000          2  Thursday\n",
              "3 2011-01-20 03:00:00       1        0  ...    11.0014          3  Thursday\n",
              "4 2011-01-20 04:00:00       1        0  ...    11.0014          4  Thursday\n",
              "\n",
              "[5 rows x 11 columns]"
            ]
          },
          "metadata": {},
          "execution_count": 231
        }
      ]
    },
    {
      "cell_type": "code",
      "metadata": {
        "colab": {
          "base_uri": "https://localhost:8080/"
        },
        "id": "5lQPXLYj_GsP",
        "outputId": "621e383b-964b-4df6-ff25-8f72b90527b0"
      },
      "source": [
        "traindata['time_hour'].unique()\n"
      ],
      "execution_count": null,
      "outputs": [
        {
          "output_type": "execute_result",
          "data": {
            "text/plain": [
              "array([ 0,  1,  2,  3,  4,  5,  6,  7,  8,  9, 10, 11, 12, 13, 14, 15, 16,\n",
              "       17, 18, 19, 20, 21, 22, 23])"
            ]
          },
          "metadata": {},
          "execution_count": 232
        }
      ]
    },
    {
      "cell_type": "code",
      "metadata": {
        "colab": {
          "base_uri": "https://localhost:8080/"
        },
        "id": "xYla9XpFIMAR",
        "outputId": "8ce79a9e-34d3-4c0e-e2bb-b9a0b2ca610b"
      },
      "source": [
        "testdata['time_hour'].unique()\n"
      ],
      "execution_count": null,
      "outputs": [
        {
          "output_type": "execute_result",
          "data": {
            "text/plain": [
              "array([ 0,  1,  2,  3,  4,  5,  6,  7,  8,  9, 10, 11, 12, 13, 14, 15, 16,\n",
              "       17, 18, 19, 20, 21, 22, 23])"
            ]
          },
          "metadata": {},
          "execution_count": 254
        }
      ]
    },
    {
      "cell_type": "code",
      "metadata": {
        "colab": {
          "base_uri": "https://localhost:8080/"
        },
        "id": "_wwnyMX4CwjU",
        "outputId": "a6e29a62-007b-4575-8efb-4bdddca9b895"
      },
      "source": [
        "traindata['time_day'].unique()\n"
      ],
      "execution_count": null,
      "outputs": [
        {
          "output_type": "execute_result",
          "data": {
            "text/plain": [
              "array(['Saturday', 'Sunday', 'Monday', 'Tuesday', 'Wednesday', 'Thursday',\n",
              "       'Friday'], dtype=object)"
            ]
          },
          "metadata": {},
          "execution_count": 233
        }
      ]
    },
    {
      "cell_type": "code",
      "metadata": {
        "colab": {
          "base_uri": "https://localhost:8080/"
        },
        "id": "aF9n7J4QIOXu",
        "outputId": "323a88b4-8b10-453c-ee7d-2852348a8ad8"
      },
      "source": [
        "testdata['time_day'].unique()"
      ],
      "execution_count": null,
      "outputs": [
        {
          "output_type": "execute_result",
          "data": {
            "text/plain": [
              "array(['Thursday', 'Friday', 'Saturday', 'Sunday', 'Monday', 'Tuesday',\n",
              "       'Wednesday'], dtype=object)"
            ]
          },
          "metadata": {},
          "execution_count": 255
        }
      ]
    },
    {
      "cell_type": "code",
      "metadata": {
        "colab": {
          "base_uri": "https://localhost:8080/",
          "height": 339
        },
        "id": "Wb0G3uVJ_m3g",
        "outputId": "b1173560-b836-4b55-f46d-8c11a6e1926e"
      },
      "source": [
        "traindata['time_day'].hist(figsize=(8,5))"
      ],
      "execution_count": null,
      "outputs": [
        {
          "output_type": "execute_result",
          "data": {
            "text/plain": [
              "<matplotlib.axes._subplots.AxesSubplot at 0x7f012c3ba590>"
            ]
          },
          "metadata": {},
          "execution_count": 219
        },
        {
          "output_type": "display_data",
          "data": {
            "image/png": "[encoded data removed]",
            "text/plain": [
              "<Figure size 576x360 with 1 Axes>"
            ]
          },
          "metadata": {
            "needs_background": "light"
          }
        }
      ]
    },
    {
      "cell_type": "code",
      "metadata": {
        "colab": {
          "base_uri": "https://localhost:8080/",
          "height": 337
        },
        "id": "o04uuGO4C1c4",
        "outputId": "13fee8b1-c910-453f-99a6-6d5fb56aea49"
      },
      "source": [
        "traindata['time_hour'].hist(figsize=(8,5))"
      ],
      "execution_count": null,
      "outputs": [
        {
          "output_type": "execute_result",
          "data": {
            "text/plain": [
              "<matplotlib.axes._subplots.AxesSubplot at 0x7f012c1d46d0>"
            ]
          },
          "metadata": {},
          "execution_count": 234
        },
        {
          "output_type": "display_data",
          "data": {
            "image/png": "[encoded data removed]",
            "text/plain": [
              "<Figure size 576x360 with 1 Axes>"
            ]
          },
          "metadata": {
            "needs_background": "light"
          }
        }
      ]
    },
    {
      "cell_type": "code",
      "metadata": {
        "colab": {
          "base_uri": "https://localhost:8080/",
          "height": 337
        },
        "id": "x2kWWUE-_Rc7",
        "outputId": "7ba6921d-052b-4ff9-b417-40d30b6791a2"
      },
      "source": [
        "traindata['time_day'].hist(figsize=(8,5))"
      ],
      "execution_count": null,
      "outputs": [
        {
          "output_type": "execute_result",
          "data": {
            "text/plain": [
              "<matplotlib.axes._subplots.AxesSubplot at 0x7f012c39efd0>"
            ]
          },
          "metadata": {},
          "execution_count": 235
        },
        {
          "output_type": "display_data",
          "data": {
            "image/png": "[encoded data removed]",
            "text/plain": [
              "<Figure size 576x360 with 1 Axes>"
            ]
          },
          "metadata": {
            "needs_background": "light"
          }
        }
      ]
    },
    {
      "cell_type": "code",
      "metadata": {
        "colab": {
          "base_uri": "https://localhost:8080/",
          "height": 515
        },
        "id": "6nFIWWoGDXAu",
        "outputId": "493c9261-bae0-4851-b48f-754074b019c0"
      },
      "source": [
        "plt.figure(figsize=(12,8))\n",
        "import seaborn as sns\n",
        "sns.boxplot(traindata['time_day'],traindata['count'])"
      ],
      "execution_count": null,
      "outputs": [
        {
          "output_type": "execute_result",
          "data": {
            "text/plain": [
              "<matplotlib.axes._subplots.AxesSubplot at 0x7f012c11a1d0>"
            ]
          },
          "metadata": {},
          "execution_count": 238
        },
        {
          "output_type": "display_data",
          "data": {
            "image/png": "[encoded data removed]",
            "text/plain": [
              "<Figure size 864x576 with 1 Axes>"
            ]
          },
          "metadata": {
            "needs_background": "light"
          }
        }
      ]
    },
    {
      "cell_type": "code",
      "metadata": {
        "colab": {
          "base_uri": "https://localhost:8080/",
          "height": 515
        },
        "id": "pEgEQmynDpdO",
        "outputId": "7b6c5d37-6a25-4ad9-c388-c4875bf082c7"
      },
      "source": [
        "plt.figure(figsize=(12,8))\n",
        "import seaborn as sns\n",
        "sns.boxplot(traindata['time_hour'],traindata['count'])"
      ],
      "execution_count": null,
      "outputs": [
        {
          "output_type": "execute_result",
          "data": {
            "text/plain": [
              "<matplotlib.axes._subplots.AxesSubplot at 0x7f012bfa8c50>"
            ]
          },
          "metadata": {},
          "execution_count": 239
        },
        {
          "output_type": "display_data",
          "data": {
            "image/png": "[encoded data removed]",
            "text/plain": [
              "<Figure size 864x576 with 1 Axes>"
            ]
          },
          "metadata": {
            "needs_background": "light"
          }
        }
      ]
    },
    {
      "cell_type": "code",
      "metadata": {
        "id": "W6EnlfmbDwi4"
      },
      "source": [
        "traindata['time_day'] = traindata['time_day'].astype('category')\n",
        "traindata['time_day'] = traindata['time_day'].cat.codes"
      ],
      "execution_count": null,
      "outputs": []
    },
    {
      "cell_type": "code",
      "metadata": {
        "colab": {
          "base_uri": "https://localhost:8080/",
          "height": 206
        },
        "id": "CSG9zHy_EqwN",
        "outputId": "8f6ca6e0-e111-4158-a11e-ee2207e27193"
      },
      "source": [
        "traindata.head()"
      ],
      "execution_count": null,
      "outputs": [
        {
          "output_type": "execute_result",
          "data": {
            "text/html": [
              "<div>\n",
              "<style scoped>\n",
              "    .dataframe tbody tr th:only-of-type {\n",
              "        vertical-align: middle;\n",
              "    }\n",
              "\n",
              "    .dataframe tbody tr th {\n",
              "        vertical-align: top;\n",
              "    }\n",
              "\n",
              "    .dataframe thead th {\n",
              "        text-align: right;\n",
              "    }\n",
              "</style>\n",
              "<table border=\"1\" class=\"dataframe\">\n",
              "  <thead>\n",
              "    <tr style=\"text-align: right;\">\n",
              "      <th></th>\n",
              "      <th>datetime</th>\n",
              "      <th>season</th>\n",
              "      <th>holiday</th>\n",
              "      <th>workingday</th>\n",
              "      <th>weather</th>\n",
              "      <th>temp</th>\n",
              "      <th>atemp</th>\n",
              "      <th>humidity</th>\n",
              "      <th>windspeed</th>\n",
              "      <th>casual</th>\n",
              "      <th>registered</th>\n",
              "      <th>count</th>\n",
              "      <th>time_hour</th>\n",
              "      <th>time_day</th>\n",
              "    </tr>\n",
              "  </thead>\n",
              "  <tbody>\n",
              "    <tr>\n",
              "      <th>0</th>\n",
              "      <td>2011-01-01 00:00:00</td>\n",
              "      <td>1</td>\n",
              "      <td>0</td>\n",
              "      <td>0</td>\n",
              "      <td>1</td>\n",
              "      <td>9.84</td>\n",
              "      <td>14.395</td>\n",
              "      <td>81</td>\n",
              "      <td>0.0</td>\n",
              "      <td>3</td>\n",
              "      <td>13</td>\n",
              "      <td>16</td>\n",
              "      <td>0</td>\n",
              "      <td>2</td>\n",
              "    </tr>\n",
              "    <tr>\n",
              "      <th>1</th>\n",
              "      <td>2011-01-01 01:00:00</td>\n",
              "      <td>1</td>\n",
              "      <td>0</td>\n",
              "      <td>0</td>\n",
              "      <td>1</td>\n",
              "      <td>9.02</td>\n",
              "      <td>13.635</td>\n",
              "      <td>80</td>\n",
              "      <td>0.0</td>\n",
              "      <td>8</td>\n",
              "      <td>32</td>\n",
              "      <td>40</td>\n",
              "      <td>1</td>\n",
              "      <td>2</td>\n",
              "    </tr>\n",
              "    <tr>\n",
              "      <th>2</th>\n",
              "      <td>2011-01-01 02:00:00</td>\n",
              "      <td>1</td>\n",
              "      <td>0</td>\n",
              "      <td>0</td>\n",
              "      <td>1</td>\n",
              "      <td>9.02</td>\n",
              "      <td>13.635</td>\n",
              "      <td>80</td>\n",
              "      <td>0.0</td>\n",
              "      <td>5</td>\n",
              "      <td>27</td>\n",
              "      <td>32</td>\n",
              "      <td>2</td>\n",
              "      <td>2</td>\n",
              "    </tr>\n",
              "    <tr>\n",
              "      <th>3</th>\n",
              "      <td>2011-01-01 03:00:00</td>\n",
              "      <td>1</td>\n",
              "      <td>0</td>\n",
              "      <td>0</td>\n",
              "      <td>1</td>\n",
              "      <td>9.84</td>\n",
              "      <td>14.395</td>\n",
              "      <td>75</td>\n",
              "      <td>0.0</td>\n",
              "      <td>3</td>\n",
              "      <td>10</td>\n",
              "      <td>13</td>\n",
              "      <td>3</td>\n",
              "      <td>2</td>\n",
              "    </tr>\n",
              "    <tr>\n",
              "      <th>4</th>\n",
              "      <td>2011-01-01 04:00:00</td>\n",
              "      <td>1</td>\n",
              "      <td>0</td>\n",
              "      <td>0</td>\n",
              "      <td>1</td>\n",
              "      <td>9.84</td>\n",
              "      <td>14.395</td>\n",
              "      <td>75</td>\n",
              "      <td>0.0</td>\n",
              "      <td>0</td>\n",
              "      <td>1</td>\n",
              "      <td>1</td>\n",
              "      <td>4</td>\n",
              "      <td>2</td>\n",
              "    </tr>\n",
              "  </tbody>\n",
              "</table>\n",
              "</div>"
            ],
            "text/plain": [
              "             datetime  season  holiday  ...  count  time_hour  time_day\n",
              "0 2011-01-01 00:00:00       1        0  ...     16          0         2\n",
              "1 2011-01-01 01:00:00       1        0  ...     40          1         2\n",
              "2 2011-01-01 02:00:00       1        0  ...     32          2         2\n",
              "3 2011-01-01 03:00:00       1        0  ...     13          3         2\n",
              "4 2011-01-01 04:00:00       1        0  ...      1          4         2\n",
              "\n",
              "[5 rows x 14 columns]"
            ]
          },
          "metadata": {},
          "execution_count": 243
        }
      ]
    },
    {
      "cell_type": "code",
      "metadata": {
        "id": "LFDLEFxnIWgu"
      },
      "source": [
        "testdata['time_day'] = testdata['time_day'].astype('category')\n",
        "testdata['time_day'] = testdata['time_day'].cat.codes"
      ],
      "execution_count": null,
      "outputs": []
    },
    {
      "cell_type": "code",
      "metadata": {
        "colab": {
          "base_uri": "https://localhost:8080/",
          "height": 329
        },
        "id": "iQbFlIGeUgps",
        "outputId": "da7c8337-65b7-4f33-adce-e9937a5e5de7"
      },
      "source": [
        "traindata.drop(columns= ['datetime'], inplace = True)\n"
      ],
      "execution_count": null,
      "outputs": [
        {
          "output_type": "error",
          "ename": "KeyError",
          "evalue": "ignored",
          "traceback": [
            "\u001b[0;31m---------------------------------------------------------------------------\u001b[0m",
            "\u001b[0;31mKeyError\u001b[0m                                  Traceback (most recent call last)",
            "\u001b[0;32m<ipython-input-320-14fc877e5f9f>\u001b[0m in \u001b[0;36m<module>\u001b[0;34m()\u001b[0m\n\u001b[0;32m----> 1\u001b[0;31m \u001b[0mtraindata\u001b[0m\u001b[0;34m.\u001b[0m\u001b[0mdrop\u001b[0m\u001b[0;34m(\u001b[0m\u001b[0mcolumns\u001b[0m\u001b[0;34m=\u001b[0m \u001b[0;34m[\u001b[0m\u001b[0;34m'datetime'\u001b[0m\u001b[0;34m]\u001b[0m\u001b[0;34m,\u001b[0m \u001b[0minplace\u001b[0m \u001b[0;34m=\u001b[0m \u001b[0;32mTrue\u001b[0m\u001b[0;34m)\u001b[0m\u001b[0;34m\u001b[0m\u001b[0;34m\u001b[0m\u001b[0m\n\u001b[0m\u001b[1;32m      2\u001b[0m \u001b[0mtestdata\u001b[0m\u001b[0;34m.\u001b[0m\u001b[0mdrop\u001b[0m\u001b[0;34m(\u001b[0m\u001b[0mcolumns\u001b[0m\u001b[0;34m=\u001b[0m \u001b[0;34m[\u001b[0m\u001b[0;34m'datetime'\u001b[0m\u001b[0;34m]\u001b[0m\u001b[0;34m,\u001b[0m \u001b[0minplace\u001b[0m \u001b[0;34m=\u001b[0m \u001b[0;32mTrue\u001b[0m\u001b[0;34m)\u001b[0m\u001b[0;34m\u001b[0m\u001b[0;34m\u001b[0m\u001b[0m\n",
            "\u001b[0;32m/usr/local/lib/python3.7/dist-packages/pandas/core/frame.py\u001b[0m in \u001b[0;36mdrop\u001b[0;34m(self, labels, axis, index, columns, level, inplace, errors)\u001b[0m\n\u001b[1;32m   4172\u001b[0m             \u001b[0mlevel\u001b[0m\u001b[0;34m=\u001b[0m\u001b[0mlevel\u001b[0m\u001b[0;34m,\u001b[0m\u001b[0;34m\u001b[0m\u001b[0;34m\u001b[0m\u001b[0m\n\u001b[1;32m   4173\u001b[0m             \u001b[0minplace\u001b[0m\u001b[0;34m=\u001b[0m\u001b[0minplace\u001b[0m\u001b[0;34m,\u001b[0m\u001b[0;34m\u001b[0m\u001b[0;34m\u001b[0m\u001b[0m\n\u001b[0;32m-> 4174\u001b[0;31m             \u001b[0merrors\u001b[0m\u001b[0;34m=\u001b[0m\u001b[0merrors\u001b[0m\u001b[0;34m,\u001b[0m\u001b[0;34m\u001b[0m\u001b[0;34m\u001b[0m\u001b[0m\n\u001b[0m\u001b[1;32m   4175\u001b[0m         )\n\u001b[1;32m   4176\u001b[0m \u001b[0;34m\u001b[0m\u001b[0m\n",
            "\u001b[0;32m/usr/local/lib/python3.7/dist-packages/pandas/core/generic.py\u001b[0m in \u001b[0;36mdrop\u001b[0;34m(self, labels, axis, index, columns, level, inplace, errors)\u001b[0m\n\u001b[1;32m   3887\u001b[0m         \u001b[0;32mfor\u001b[0m \u001b[0maxis\u001b[0m\u001b[0;34m,\u001b[0m \u001b[0mlabels\u001b[0m \u001b[0;32min\u001b[0m \u001b[0maxes\u001b[0m\u001b[0;34m.\u001b[0m\u001b[0mitems\u001b[0m\u001b[0;34m(\u001b[0m\u001b[0;34m)\u001b[0m\u001b[0;34m:\u001b[0m\u001b[0;34m\u001b[0m\u001b[0;34m\u001b[0m\u001b[0m\n\u001b[1;32m   3888\u001b[0m             \u001b[0;32mif\u001b[0m \u001b[0mlabels\u001b[0m \u001b[0;32mis\u001b[0m \u001b[0;32mnot\u001b[0m \u001b[0;32mNone\u001b[0m\u001b[0;34m:\u001b[0m\u001b[0;34m\u001b[0m\u001b[0;34m\u001b[0m\u001b[0m\n\u001b[0;32m-> 3889\u001b[0;31m                 \u001b[0mobj\u001b[0m \u001b[0;34m=\u001b[0m \u001b[0mobj\u001b[0m\u001b[0;34m.\u001b[0m\u001b[0m_drop_axis\u001b[0m\u001b[0;34m(\u001b[0m\u001b[0mlabels\u001b[0m\u001b[0;34m,\u001b[0m \u001b[0maxis\u001b[0m\u001b[0;34m,\u001b[0m \u001b[0mlevel\u001b[0m\u001b[0;34m=\u001b[0m\u001b[0mlevel\u001b[0m\u001b[0;34m,\u001b[0m \u001b[0merrors\u001b[0m\u001b[0;34m=\u001b[0m\u001b[0merrors\u001b[0m\u001b[0;34m)\u001b[0m\u001b[0;34m\u001b[0m\u001b[0;34m\u001b[0m\u001b[0m\n\u001b[0m\u001b[1;32m   3890\u001b[0m \u001b[0;34m\u001b[0m\u001b[0m\n\u001b[1;32m   3891\u001b[0m         \u001b[0;32mif\u001b[0m \u001b[0minplace\u001b[0m\u001b[0;34m:\u001b[0m\u001b[0;34m\u001b[0m\u001b[0;34m\u001b[0m\u001b[0m\n",
            "\u001b[0;32m/usr/local/lib/python3.7/dist-packages/pandas/core/generic.py\u001b[0m in \u001b[0;36m_drop_axis\u001b[0;34m(self, labels, axis, level, errors)\u001b[0m\n\u001b[1;32m   3921\u001b[0m                 \u001b[0mnew_axis\u001b[0m \u001b[0;34m=\u001b[0m \u001b[0maxis\u001b[0m\u001b[0;34m.\u001b[0m\u001b[0mdrop\u001b[0m\u001b[0;34m(\u001b[0m\u001b[0mlabels\u001b[0m\u001b[0;34m,\u001b[0m \u001b[0mlevel\u001b[0m\u001b[0;34m=\u001b[0m\u001b[0mlevel\u001b[0m\u001b[0;34m,\u001b[0m \u001b[0merrors\u001b[0m\u001b[0;34m=\u001b[0m\u001b[0merrors\u001b[0m\u001b[0;34m)\u001b[0m\u001b[0;34m\u001b[0m\u001b[0;34m\u001b[0m\u001b[0m\n\u001b[1;32m   3922\u001b[0m             \u001b[0;32melse\u001b[0m\u001b[0;34m:\u001b[0m\u001b[0;34m\u001b[0m\u001b[0;34m\u001b[0m\u001b[0m\n\u001b[0;32m-> 3923\u001b[0;31m                 \u001b[0mnew_axis\u001b[0m \u001b[0;34m=\u001b[0m \u001b[0maxis\u001b[0m\u001b[0;34m.\u001b[0m\u001b[0mdrop\u001b[0m\u001b[0;34m(\u001b[0m\u001b[0mlabels\u001b[0m\u001b[0;34m,\u001b[0m \u001b[0merrors\u001b[0m\u001b[0;34m=\u001b[0m\u001b[0merrors\u001b[0m\u001b[0;34m)\u001b[0m\u001b[0;34m\u001b[0m\u001b[0;34m\u001b[0m\u001b[0m\n\u001b[0m\u001b[1;32m   3924\u001b[0m             \u001b[0mresult\u001b[0m \u001b[0;34m=\u001b[0m \u001b[0mself\u001b[0m\u001b[0;34m.\u001b[0m\u001b[0mreindex\u001b[0m\u001b[0;34m(\u001b[0m\u001b[0;34m**\u001b[0m\u001b[0;34m{\u001b[0m\u001b[0maxis_name\u001b[0m\u001b[0;34m:\u001b[0m \u001b[0mnew_axis\u001b[0m\u001b[0;34m}\u001b[0m\u001b[0;34m)\u001b[0m\u001b[0;34m\u001b[0m\u001b[0;34m\u001b[0m\u001b[0m\n\u001b[1;32m   3925\u001b[0m \u001b[0;34m\u001b[0m\u001b[0m\n",
            "\u001b[0;32m/usr/local/lib/python3.7/dist-packages/pandas/core/indexes/base.py\u001b[0m in \u001b[0;36mdrop\u001b[0;34m(self, labels, errors)\u001b[0m\n\u001b[1;32m   5285\u001b[0m         \u001b[0;32mif\u001b[0m \u001b[0mmask\u001b[0m\u001b[0;34m.\u001b[0m\u001b[0many\u001b[0m\u001b[0;34m(\u001b[0m\u001b[0;34m)\u001b[0m\u001b[0;34m:\u001b[0m\u001b[0;34m\u001b[0m\u001b[0;34m\u001b[0m\u001b[0m\n\u001b[1;32m   5286\u001b[0m             \u001b[0;32mif\u001b[0m \u001b[0merrors\u001b[0m \u001b[0;34m!=\u001b[0m \u001b[0;34m\"ignore\"\u001b[0m\u001b[0;34m:\u001b[0m\u001b[0;34m\u001b[0m\u001b[0;34m\u001b[0m\u001b[0m\n\u001b[0;32m-> 5287\u001b[0;31m                 \u001b[0;32mraise\u001b[0m \u001b[0mKeyError\u001b[0m\u001b[0;34m(\u001b[0m\u001b[0;34mf\"{labels[mask]} not found in axis\"\u001b[0m\u001b[0;34m)\u001b[0m\u001b[0;34m\u001b[0m\u001b[0;34m\u001b[0m\u001b[0m\n\u001b[0m\u001b[1;32m   5288\u001b[0m             \u001b[0mindexer\u001b[0m \u001b[0;34m=\u001b[0m \u001b[0mindexer\u001b[0m\u001b[0;34m[\u001b[0m\u001b[0;34m~\u001b[0m\u001b[0mmask\u001b[0m\u001b[0;34m]\u001b[0m\u001b[0;34m\u001b[0m\u001b[0;34m\u001b[0m\u001b[0m\n\u001b[1;32m   5289\u001b[0m         \u001b[0;32mreturn\u001b[0m \u001b[0mself\u001b[0m\u001b[0;34m.\u001b[0m\u001b[0mdelete\u001b[0m\u001b[0;34m(\u001b[0m\u001b[0mindexer\u001b[0m\u001b[0;34m)\u001b[0m\u001b[0;34m\u001b[0m\u001b[0;34m\u001b[0m\u001b[0m\n",
            "\u001b[0;31mKeyError\u001b[0m: \"['datetime'] not found in axis\""
          ]
        }
      ]
    },
    {
      "cell_type": "code",
      "metadata": {
        "id": "Lwmgw6kuZiXM"
      },
      "source": [
        "testdata.drop(columns= ['datetime'], inplace = True)"
      ],
      "execution_count": null,
      "outputs": []
    },
    {
      "cell_type": "markdown",
      "metadata": {
        "id": "3R0z90m5WDLv"
      },
      "source": [
        "# **FEATURE ENGINEERING** \n"
      ]
    },
    {
      "cell_type": "markdown",
      "metadata": {
        "id": "XI5GJpJLF5qr"
      },
      "source": [
        "Hour Bins\n"
      ]
    },
    {
      "cell_type": "code",
      "metadata": {
        "id": "3v4CXDo8UB0-"
      },
      "source": [
        "# can use linspace for large data set\n",
        "bins = [-1,4,8,12,16,20,23]\n",
        "labels = [1,2,3,4,5,6]\n",
        "traindata['hours_binned'] = pd.cut(traindata['time_hour'], bins = bins, labels = labels)"
      ],
      "execution_count": null,
      "outputs": []
    },
    {
      "cell_type": "code",
      "metadata": {
        "colab": {
          "base_uri": "https://localhost:8080/",
          "height": 399
        },
        "id": "q2XTpCIOUB3z",
        "outputId": "dcdcd51c-3aef-4cda-a2a9-ec687ca6083b"
      },
      "source": [
        "traindata.head()"
      ],
      "execution_count": null,
      "outputs": [
        {
          "output_type": "execute_result",
          "data": {
            "text/html": [
              "<div>\n",
              "<style scoped>\n",
              "    .dataframe tbody tr th:only-of-type {\n",
              "        vertical-align: middle;\n",
              "    }\n",
              "\n",
              "    .dataframe tbody tr th {\n",
              "        vertical-align: top;\n",
              "    }\n",
              "\n",
              "    .dataframe thead th {\n",
              "        text-align: right;\n",
              "    }\n",
              "</style>\n",
              "<table border=\"1\" class=\"dataframe\">\n",
              "  <thead>\n",
              "    <tr style=\"text-align: right;\">\n",
              "      <th></th>\n",
              "      <th>datetime</th>\n",
              "      <th>season</th>\n",
              "      <th>holiday</th>\n",
              "      <th>workingday</th>\n",
              "      <th>weather</th>\n",
              "      <th>temp</th>\n",
              "      <th>atemp</th>\n",
              "      <th>humidity</th>\n",
              "      <th>windspeed</th>\n",
              "      <th>casual</th>\n",
              "      <th>registered</th>\n",
              "      <th>total_bikes_rented</th>\n",
              "      <th>time_hour</th>\n",
              "      <th>time_day</th>\n",
              "      <th>hours_binned</th>\n",
              "    </tr>\n",
              "  </thead>\n",
              "  <tbody>\n",
              "    <tr>\n",
              "      <th>0</th>\n",
              "      <td>2011-01-01 00:00:00</td>\n",
              "      <td>1</td>\n",
              "      <td>0</td>\n",
              "      <td>0</td>\n",
              "      <td>1</td>\n",
              "      <td>9.84</td>\n",
              "      <td>14.395</td>\n",
              "      <td>81</td>\n",
              "      <td>0.0</td>\n",
              "      <td>3</td>\n",
              "      <td>13</td>\n",
              "      <td>16</td>\n",
              "      <td>0</td>\n",
              "      <td>2</td>\n",
              "      <td>1</td>\n",
              "    </tr>\n",
              "    <tr>\n",
              "      <th>1</th>\n",
              "      <td>2011-01-01 01:00:00</td>\n",
              "      <td>1</td>\n",
              "      <td>0</td>\n",
              "      <td>0</td>\n",
              "      <td>1</td>\n",
              "      <td>9.02</td>\n",
              "      <td>13.635</td>\n",
              "      <td>80</td>\n",
              "      <td>0.0</td>\n",
              "      <td>8</td>\n",
              "      <td>32</td>\n",
              "      <td>40</td>\n",
              "      <td>1</td>\n",
              "      <td>2</td>\n",
              "      <td>1</td>\n",
              "    </tr>\n",
              "    <tr>\n",
              "      <th>2</th>\n",
              "      <td>2011-01-01 02:00:00</td>\n",
              "      <td>1</td>\n",
              "      <td>0</td>\n",
              "      <td>0</td>\n",
              "      <td>1</td>\n",
              "      <td>9.02</td>\n",
              "      <td>13.635</td>\n",
              "      <td>80</td>\n",
              "      <td>0.0</td>\n",
              "      <td>5</td>\n",
              "      <td>27</td>\n",
              "      <td>32</td>\n",
              "      <td>2</td>\n",
              "      <td>2</td>\n",
              "      <td>1</td>\n",
              "    </tr>\n",
              "    <tr>\n",
              "      <th>3</th>\n",
              "      <td>2011-01-01 03:00:00</td>\n",
              "      <td>1</td>\n",
              "      <td>0</td>\n",
              "      <td>0</td>\n",
              "      <td>1</td>\n",
              "      <td>9.84</td>\n",
              "      <td>14.395</td>\n",
              "      <td>75</td>\n",
              "      <td>0.0</td>\n",
              "      <td>3</td>\n",
              "      <td>10</td>\n",
              "      <td>13</td>\n",
              "      <td>3</td>\n",
              "      <td>2</td>\n",
              "      <td>1</td>\n",
              "    </tr>\n",
              "    <tr>\n",
              "      <th>4</th>\n",
              "      <td>2011-01-01 04:00:00</td>\n",
              "      <td>1</td>\n",
              "      <td>0</td>\n",
              "      <td>0</td>\n",
              "      <td>1</td>\n",
              "      <td>9.84</td>\n",
              "      <td>14.395</td>\n",
              "      <td>75</td>\n",
              "      <td>0.0</td>\n",
              "      <td>0</td>\n",
              "      <td>1</td>\n",
              "      <td>1</td>\n",
              "      <td>4</td>\n",
              "      <td>2</td>\n",
              "      <td>1</td>\n",
              "    </tr>\n",
              "  </tbody>\n",
              "</table>\n",
              "</div>"
            ],
            "text/plain": [
              "             datetime  season  holiday  ...  time_hour  time_day  hours_binned\n",
              "0 2011-01-01 00:00:00       1        0  ...          0         2             1\n",
              "1 2011-01-01 01:00:00       1        0  ...          1         2             1\n",
              "2 2011-01-01 02:00:00       1        0  ...          2         2             1\n",
              "3 2011-01-01 03:00:00       1        0  ...          3         2             1\n",
              "4 2011-01-01 04:00:00       1        0  ...          4         2             1\n",
              "\n",
              "[5 rows x 15 columns]"
            ]
          },
          "metadata": {},
          "execution_count": 269
        }
      ]
    },
    {
      "cell_type": "code",
      "metadata": {
        "id": "M9EPjptgUB6A"
      },
      "source": [
        "bins = [-1,4,8,12,16,20,23]\n",
        "labels = [1,2,3,4,5,6]\n",
        "testdata['hours_binned'] = pd.cut(testdata['time_hour'], bins = bins, labels = labels)"
      ],
      "execution_count": null,
      "outputs": []
    },
    {
      "cell_type": "code",
      "metadata": {
        "id": "r0zLEUkvUB8f"
      },
      "source": [
        "import sklearn\n",
        "from sklearn.model_selection import train_test_split\n",
        "\n",
        "x = traindata.drop('total_bikes_rented', axis = 1)\n",
        "y = traindata['total_bikes_rented']\n",
        "xtrain, xtest, ytrain, ytest = train_test_split(x,y, test_size = 0.3)\n",
        "\n"
      ],
      "execution_count": null,
      "outputs": []
    },
    {
      "cell_type": "code",
      "metadata": {
        "colab": {
          "base_uri": "https://localhost:8080/"
        },
        "id": "SF56S6MZUM9q",
        "outputId": "dba99e29-3d11-4c24-917a-c356ebbefdd3"
      },
      "source": [
        "ytest"
      ],
      "execution_count": null,
      "outputs": [
        {
          "output_type": "execute_result",
          "data": {
            "text/plain": [
              "10282    223\n",
              "2452      13\n",
              "5035     109\n",
              "8797     233\n",
              "8317     220\n",
              "        ... \n",
              "3657      38\n",
              "5366     222\n",
              "1527     202\n",
              "3328     150\n",
              "1226      55\n",
              "Name: total_bikes_rented, Length: 3266, dtype: int64"
            ]
          },
          "metadata": {},
          "execution_count": 308
        }
      ]
    },
    {
      "cell_type": "code",
      "metadata": {
        "colab": {
          "base_uri": "https://localhost:8080/",
          "height": 206
        },
        "id": "LADfVhUyYQuO",
        "outputId": "70535dda-6ef4-472e-ebb5-dc294d844ee5"
      },
      "source": [
        "xtrain.head()"
      ],
      "execution_count": null,
      "outputs": [
        {
          "output_type": "execute_result",
          "data": {
            "text/html": [
              "<div>\n",
              "<style scoped>\n",
              "    .dataframe tbody tr th:only-of-type {\n",
              "        vertical-align: middle;\n",
              "    }\n",
              "\n",
              "    .dataframe tbody tr th {\n",
              "        vertical-align: top;\n",
              "    }\n",
              "\n",
              "    .dataframe thead th {\n",
              "        text-align: right;\n",
              "    }\n",
              "</style>\n",
              "<table border=\"1\" class=\"dataframe\">\n",
              "  <thead>\n",
              "    <tr style=\"text-align: right;\">\n",
              "      <th></th>\n",
              "      <th>season</th>\n",
              "      <th>holiday</th>\n",
              "      <th>workingday</th>\n",
              "      <th>weather</th>\n",
              "      <th>temp</th>\n",
              "      <th>atemp</th>\n",
              "      <th>humidity</th>\n",
              "      <th>windspeed</th>\n",
              "      <th>time_hour</th>\n",
              "      <th>time_day</th>\n",
              "      <th>hours_binned</th>\n",
              "    </tr>\n",
              "  </thead>\n",
              "  <tbody>\n",
              "    <tr>\n",
              "      <th>6437</th>\n",
              "      <td>1</td>\n",
              "      <td>0</td>\n",
              "      <td>1</td>\n",
              "      <td>2</td>\n",
              "      <td>10.66</td>\n",
              "      <td>13.635</td>\n",
              "      <td>56</td>\n",
              "      <td>8.9981</td>\n",
              "      <td>11</td>\n",
              "      <td>1</td>\n",
              "      <td>3</td>\n",
              "    </tr>\n",
              "    <tr>\n",
              "      <th>5639</th>\n",
              "      <td>1</td>\n",
              "      <td>0</td>\n",
              "      <td>1</td>\n",
              "      <td>2</td>\n",
              "      <td>9.02</td>\n",
              "      <td>11.365</td>\n",
              "      <td>87</td>\n",
              "      <td>11.0014</td>\n",
              "      <td>2</td>\n",
              "      <td>5</td>\n",
              "      <td>1</td>\n",
              "    </tr>\n",
              "    <tr>\n",
              "      <th>5789</th>\n",
              "      <td>1</td>\n",
              "      <td>1</td>\n",
              "      <td>0</td>\n",
              "      <td>1</td>\n",
              "      <td>4.10</td>\n",
              "      <td>6.060</td>\n",
              "      <td>58</td>\n",
              "      <td>11.0014</td>\n",
              "      <td>9</td>\n",
              "      <td>1</td>\n",
              "      <td>3</td>\n",
              "    </tr>\n",
              "    <tr>\n",
              "      <th>7442</th>\n",
              "      <td>2</td>\n",
              "      <td>0</td>\n",
              "      <td>1</td>\n",
              "      <td>2</td>\n",
              "      <td>25.42</td>\n",
              "      <td>31.060</td>\n",
              "      <td>59</td>\n",
              "      <td>19.9995</td>\n",
              "      <td>11</td>\n",
              "      <td>6</td>\n",
              "      <td>3</td>\n",
              "    </tr>\n",
              "    <tr>\n",
              "      <th>3469</th>\n",
              "      <td>3</td>\n",
              "      <td>0</td>\n",
              "      <td>0</td>\n",
              "      <td>1</td>\n",
              "      <td>28.70</td>\n",
              "      <td>33.335</td>\n",
              "      <td>79</td>\n",
              "      <td>12.9980</td>\n",
              "      <td>11</td>\n",
              "      <td>3</td>\n",
              "      <td>3</td>\n",
              "    </tr>\n",
              "  </tbody>\n",
              "</table>\n",
              "</div>"
            ],
            "text/plain": [
              "      season  holiday  workingday  ...  time_hour  time_day  hours_binned\n",
              "6437       1        0           1  ...         11         1             3\n",
              "5639       1        0           1  ...          2         5             1\n",
              "5789       1        1           0  ...          9         1             3\n",
              "7442       2        0           1  ...         11         6             3\n",
              "3469       3        0           0  ...         11         3             3\n",
              "\n",
              "[5 rows x 11 columns]"
            ]
          },
          "metadata": {},
          "execution_count": 315
        }
      ]
    },
    {
      "cell_type": "code",
      "metadata": {
        "colab": {
          "base_uri": "https://localhost:8080/"
        },
        "id": "O_xub2KRSGDf",
        "outputId": "34d6c729-b417-45d5-a7e6-1053e9a5d6e8"
      },
      "source": [
        "from sklearn.ensemble import RandomForestRegressor\n",
        "rf = RandomForestRegressor(random_state = 0)\n",
        "rf.fit(xtrain, ytrain)"
      ],
      "execution_count": null,
      "outputs": [
        {
          "output_type": "execute_result",
          "data": {
            "text/plain": [
              "RandomForestRegressor(bootstrap=True, ccp_alpha=0.0, criterion='mse',\n",
              "                      max_depth=None, max_features='auto', max_leaf_nodes=None,\n",
              "                      max_samples=None, min_impurity_decrease=0.0,\n",
              "                      min_impurity_split=None, min_samples_leaf=1,\n",
              "                      min_samples_split=2, min_weight_fraction_leaf=0.0,\n",
              "                      n_estimators=100, n_jobs=None, oob_score=False,\n",
              "                      random_state=0, verbose=0, warm_start=False)"
            ]
          },
          "metadata": {},
          "execution_count": 316
        }
      ]
    },
    {
      "cell_type": "code",
      "metadata": {
        "colab": {
          "base_uri": "https://localhost:8080/"
        },
        "id": "S21zwwj0TWDa",
        "outputId": "7b264933-3637-42b9-c94b-cb6f3ad5ea1e"
      },
      "source": [
        "#Prediciting result on training data set\n",
        "y_pred_train = rf.predict(xtrain)\n",
        "y_pred_train\n"
      ],
      "execution_count": null,
      "outputs": [
        {
          "output_type": "execute_result",
          "data": {
            "text/plain": [
              "array([103.37      ,   3.87166667,  91.        , ..., 192.39      ,\n",
              "        89.51      ,   3.63      ])"
            ]
          },
          "metadata": {},
          "execution_count": 317
        }
      ]
    },
    {
      "cell_type": "code",
      "metadata": {
        "colab": {
          "base_uri": "https://localhost:8080/"
        },
        "id": "Sqm17OkOY3x9",
        "outputId": "10923c66-0654-4486-a2cb-185695939fe4"
      },
      "source": [
        "#Prediciting result on trained - test data set\n",
        "y_pred_test = rf.predict(xtest)\n",
        "y_pred_test\n"
      ],
      "execution_count": null,
      "outputs": [
        {
          "output_type": "execute_result",
          "data": {
            "text/plain": [
              "array([621.96      , 217.51      ,  84.2       , ..., 164.55      ,\n",
              "       444.51666667, 307.01      ])"
            ]
          },
          "metadata": {},
          "execution_count": 318
        }
      ]
    },
    {
      "cell_type": "code",
      "metadata": {
        "colab": {
          "base_uri": "https://localhost:8080/"
        },
        "id": "FTR1ejl0ZWvy",
        "outputId": "7c8a1ed0-b8ef-4ccb-8cdd-83eba40deaf8"
      },
      "source": [
        "#Prediciting result on test data set\n",
        "actualpred_y = rf.predict(testdata)\n",
        "actualpred_y\n"
      ],
      "execution_count": null,
      "outputs": [
        {
          "output_type": "execute_result",
          "data": {
            "text/plain": [
              "array([13.37,  4.7 ,  5.8 , ..., 76.82, 81.7 , 47.66])"
            ]
          },
          "metadata": {},
          "execution_count": 324
        }
      ]
    },
    {
      "cell_type": "markdown",
      "metadata": {
        "id": "Pb4CI9jWZ80p"
      },
      "source": [
        "# **Model Evaluation**"
      ]
    },
    {
      "cell_type": "code",
      "metadata": {
        "id": "AgXMrQ7KZ0Ci"
      },
      "source": [
        "from sklearn import metrics\n",
        "from sklearn.model_selection import cross_val_score"
      ],
      "execution_count": null,
      "outputs": []
    },
    {
      "cell_type": "code",
      "metadata": {
        "id": "-Htwjv5TaGrY"
      },
      "source": [
        "def cross_val(model):\n",
        "  pred = cross_val_score(model,x,y,cv=10)\n",
        "  return pred.mean()"
      ],
      "execution_count": null,
      "outputs": []
    },
    {
      "cell_type": "code",
      "metadata": {
        "id": "4MaeOINaagsF"
      },
      "source": [
        "def print_evaluate(true, predicted):\n",
        "  MAE = metrics.mean_absolute_error(true, predicted)\n",
        "  MSE = metrics.mean_squared_error(true, predicted)\n",
        "  RMSE = np.sqrt(MSE)\n",
        "  r2_square = metrics.r2_score(true, predicted)\n",
        "  print('Mean Absolute Error (MAE) : ', MAE)\n",
        "  print('Mean Squared Error (MSE) : ', MSE)\n",
        "  print('Root Mean Squared Error (RMSE) : ', RMSE)\n",
        "  print('Root Squared Error : ', r2_square)\n",
        "\n",
        "  "
      ],
      "execution_count": null,
      "outputs": []
    },
    {
      "cell_type": "code",
      "metadata": {
        "colab": {
          "base_uri": "https://localhost:8080/"
        },
        "id": "OSTba7ALbqCv",
        "outputId": "bbda4614-c83d-4cf5-8e89-af777037e511"
      },
      "source": [
        "#Printing train and test results metrics\n",
        "print('Train Set Evaluation:\\n')\n",
        "print_evaluate(ytrain, y_pred_train)\n",
        "print('\\n')\n",
        "print('Test Set Evaluation:\\n')\n",
        "print_evaluate(ytest, y_pred_test)"
      ],
      "execution_count": null,
      "outputs": [
        {
          "output_type": "stream",
          "name": "stdout",
          "text": [
            "Train Set Evaluation:\n",
            "\n",
            "Mean Absolute Error (MAE) :  16.91466229950423\n",
            "Mean Squared Error (MSE) :  679.3468944283319\n",
            "Root Mean Squared Error (RMSE) :  26.064283884817012\n",
            "Root Squared Error :  0.9788487910550014\n",
            "\n",
            "\n",
            "Test Set Evaluation:\n",
            "\n",
            "Mean Absolute Error (MAE) :  45.75517840861594\n",
            "Mean Squared Error (MSE) :  4751.488238549564\n",
            "Root Mean Squared Error (RMSE) :  68.93103973210881\n",
            "Root Squared Error :  0.8619591936678346\n"
          ]
        }
      ]
    },
    {
      "cell_type": "code",
      "metadata": {
        "colab": {
          "base_uri": "https://localhost:8080/",
          "height": 167
        },
        "id": "EF-hLnnXcmiY",
        "outputId": "8dcc8b54-a2f2-4d7d-d166-2e266cf18fa3"
      },
      "source": [
        "print(classification_report(ytest, y_pred_test))"
      ],
      "execution_count": null,
      "outputs": [
        {
          "output_type": "error",
          "ename": "NameError",
          "evalue": "ignored",
          "traceback": [
            "\u001b[0;31m---------------------------------------------------------------------------\u001b[0m",
            "\u001b[0;31mNameError\u001b[0m                                 Traceback (most recent call last)",
            "\u001b[0;32m<ipython-input-343-c3cb6617ce2f>\u001b[0m in \u001b[0;36m<module>\u001b[0;34m()\u001b[0m\n\u001b[0;32m----> 1\u001b[0;31m \u001b[0mprint\u001b[0m\u001b[0;34m(\u001b[0m\u001b[0mclassification_report\u001b[0m\u001b[0;34m(\u001b[0m\u001b[0mytest\u001b[0m\u001b[0;34m,\u001b[0m \u001b[0my_pred_test\u001b[0m\u001b[0;34m)\u001b[0m\u001b[0;34m)\u001b[0m\u001b[0;34m\u001b[0m\u001b[0;34m\u001b[0m\u001b[0m\n\u001b[0m",
            "\u001b[0;31mNameError\u001b[0m: name 'classification_report' is not defined"
          ]
        }
      ]
    },
    {
      "cell_type": "code",
      "metadata": {
        "id": "OXSzxQNfdimL"
      },
      "source": [
        ""
      ],
      "execution_count": null,
      "outputs": []
    }
  ]
}